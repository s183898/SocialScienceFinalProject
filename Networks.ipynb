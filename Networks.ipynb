{
 "cells": [
  {
   "cell_type": "code",
   "execution_count": 11,
   "id": "public-programmer",
   "metadata": {},
   "outputs": [],
   "source": [
    "from ipynb.fs.full.NetworkMethods import Plot, CleanData, CharacterNames, GetFullyConnectedSubgraps, NamesDf\n",
    "from ipynb.fs.full.NetworkMethods import NodeWeight, GetEdges, GetLinkWeights, Cutoff, ZeroDegCutOff, WeightedGraph, UnweightedGraph"
   ]
  },
  {
   "cell_type": "code",
   "execution_count": null,
   "id": "dynamic-warrant",
   "metadata": {},
   "outputs": [],
   "source": []
  }
 ],
 "metadata": {
  "kernelspec": {
   "display_name": "Python 3",
   "language": "python",
   "name": "python3"
  },
  "language_info": {
   "codemirror_mode": {
    "name": "ipython",
    "version": 3
   },
   "file_extension": ".py",
   "mimetype": "text/x-python",
   "name": "python",
   "nbconvert_exporter": "python",
   "pygments_lexer": "ipython3",
   "version": "3.8.6"
  }
 },
 "nbformat": 4,
 "nbformat_minor": 5
}
