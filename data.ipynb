{
 "cells": [
  {
   "cell_type": "code",
   "execution_count": 1,
   "id": "friendly-terminal",
   "metadata": {},
   "outputs": [],
   "source": [
    "import requests\n",
    "from bs4 import BeautifulSoup\n",
    "import json\n",
    "import re\n",
    "from nltk import word_tokenize\n",
    "import pandas as pd\n",
    "from urllib.request import urlopen\n",
    "import requests"
   ]
  },
  {
   "cell_type": "markdown",
   "id": "brown-coffee",
   "metadata": {},
   "source": [
    "### Import list of names from json file:"
   ]
  },
  {
   "cell_type": "code",
   "execution_count": 2,
   "id": "funded-prompt",
   "metadata": {},
   "outputs": [],
   "source": [
    "CharacterNames = []\n",
    "with open('characters.json') as json_file:\n",
    "    data = json.load(json_file)\n",
    "    for p in data['characters']:\n",
    "        CharacterNames.append(p['characterName'])\n"
   ]
  },
  {
   "cell_type": "code",
   "execution_count": 3,
   "id": "inner-concrete",
   "metadata": {},
   "outputs": [
    {
     "data": {
      "text/plain": [
       "389"
      ]
     },
     "execution_count": 3,
     "metadata": {},
     "output_type": "execute_result"
    }
   ],
   "source": [
    "len(CharacterNames)"
   ]
  },
  {
   "cell_type": "code",
   "execution_count": 4,
   "id": "preliminary-devon",
   "metadata": {},
   "outputs": [],
   "source": [
    "s1 = ['/wiki/Winter_Is_Coming', '/wiki/The_Kingsroad', '/wiki/Lord_Snow', \n",
    "      '/wiki/Cripples,_Bastards,_and_Broken_Things','/wiki/The_Wolf_and_the_Lion', '/wiki/A_Golden_Crown',\n",
    "      '/wiki/You_Win_or_You_Die', '/wiki/The_Pointy_End', '/wiki/Baelor',  '/wiki/Fire_and_Blood']\n",
    "\n",
    "\n",
    "s2 = ['/wiki/What_Is_Dead_May_Never_Die', '/wiki/The_Night_Lands', '/wiki/The_North_Remembers', \n",
    "     '/wiki/A_Man_Without_Honor', '/wiki/The_Old_Gods_and_the_New', '/wiki/The_Ghost_of_Harrenhal',\n",
    "      '/wiki/Garden_of_Bones_(episode)', '/wiki/Valar_Morghulis', '/wiki/Blackwater', '/wiki/The_Prince_of_Winterfell']\n",
    "\n",
    "s3 = ['/wiki/Valar_Dohaeris', '/wiki/Dark_Wings,_Dark_Words', '/wiki/Walk_of_Punishment_(episode)', \n",
    "     '/wiki/And_Now_His_Watch_Is_Ended','/wiki/Kissed_by_Fire', '/wiki/The_Climb', \n",
    "      '/wiki/The_Bear_and_the_Maiden_Fair_(episode)',\n",
    "     '/wiki/Second_Sons_(episode)', '/wiki/The_Rains_of_Castamere_(episode)', '/wiki/Mhysa']\n",
    "\n",
    "s4 = ['/wiki/Oathkeeper_(episode)', '/wiki/Breaker_of_Chains', '/wiki/The_Lion_and_the_Rose',\n",
    "      '/wiki/Two_Swords', '/wiki/Mockingbird','/wiki/The_Laws_of_Gods_and_Men','/wiki/First_of_His_Name',\n",
    "     '/wiki/The_Children','/wiki/The_Watchers_on_the_Wall','/wiki/The_Mountain_and_the_Viper']\n",
    "\n",
    "s5 = ['/wiki/Sons_of_the_Harpy_(episode)', '/wiki/High_Sparrow_(episode)',\n",
    "      '/wiki/The_House_of_Black_and_White', '/wiki/The_Wars_To_Come', \n",
    "     '/wiki/Mother%27s_Mercy', '/wiki/The_Dance_of_Dragons','/wiki/Hardhome_(episode)', \n",
    "      '/wiki/The_Gift', '/wiki/Unbowed,_Unbent,_Unbroken', '/wiki/Kill_the_Boy']\n"
   ]
  },
  {
   "cell_type": "markdown",
   "id": "literary-relations",
   "metadata": {},
   "source": [
    "### Get relevant paths"
   ]
  },
  {
   "cell_type": "code",
   "execution_count": 5,
   "id": "detailed-kuwait",
   "metadata": {},
   "outputs": [],
   "source": [
    "def GetUrls(url):\n",
    "\n",
    "    req = requests.get(url)\n",
    "    soup = BeautifulSoup(req.text, \"html.parser\")\n",
    "    \n",
    "    AllLinks = []\n",
    "    for link in soup.find_all('a'):\n",
    "        AllLinks.append(link.get('href'))\n",
    "    \n",
    "    idx = AllLinks.index('/wiki/Season_8')\n",
    "    \n",
    "    AllLinks = AllLinks[idx:idx+26]\n",
    "    \n",
    "    indices = [AllLinks.index(\"/wiki/Season_\" +str(i)) for i in [8, 7, 6]]\n",
    "    \n",
    "    SeaLen = [indices[i+1]-indices[i]-1 for i in range(2)] + [len(AllLinks)-indices[2]-1]\n",
    "    Seasons = SeaLen[0]*['Season_8'] + SeaLen[1]*['Season_7'] + SeaLen[2]*['Season_6']\n",
    "\n",
    "    j = 0\n",
    "    for i in indices: \n",
    "        del(AllLinks[i-j])\n",
    "        j+=1\n",
    "\n",
    "    return AllLinks, Seasons\n",
    "\n",
    "def SeasonList(paths, season):\n",
    "    \n",
    "    return season*len(paths)\n",
    "    \n",
    "    "
   ]
  },
  {
   "cell_type": "markdown",
   "id": "valuable-prophet",
   "metadata": {},
   "source": [
    "### Get documents"
   ]
  },
  {
   "cell_type": "code",
   "execution_count": 6,
   "id": "million-swimming",
   "metadata": {},
   "outputs": [],
   "source": [
    "def GetDocuments(root, endpath):\n",
    "    url = root + endpath\n",
    "    res = requests.get(url)\n",
    "    html_page = res.content\n",
    "    soup = BeautifulSoup(html_page, 'html.parser')\n",
    "    text = soup.find_all(text=True)\n",
    "\n",
    "    output = ''\n",
    "    blacklist = [\n",
    "        '[document]',\n",
    "        'noscript',\n",
    "        'header',\n",
    "        'html',\n",
    "        'meta',\n",
    "        'head', \n",
    "        'input',\n",
    "        'script',\n",
    "        # there may be more elements you don't want, such as \"style\", etc.\n",
    "    ]\n",
    "\n",
    "    for t in text:\n",
    "        if t.parent.name not in blacklist:\n",
    "            output += '{} '.format(t)\n",
    "            \n",
    "    return soup, text, output"
   ]
  },
  {
   "cell_type": "markdown",
   "id": "pharmaceutical-angola",
   "metadata": {},
   "source": [
    "### Accesss all captions"
   ]
  },
  {
   "cell_type": "code",
   "execution_count": 7,
   "id": "marine-advertiser",
   "metadata": {},
   "outputs": [],
   "source": [
    "def GetSectionName(soup):\n",
    "\n",
    "    AllH = soup.find_all(['h2', 'h3'])\n",
    "    for header in AllH:\n",
    "        if header.span is not None: \n",
    "            header.span.unwrap()\n",
    "\n",
    "    AllHeaders = [header.text for header in AllH]\n",
    "    if 'Summary' in AllHeaders:\n",
    "        Pre = AllHeaders.index('Summary')\n",
    "    elif 'Synopsis' in AllHeaders: \n",
    "        Pre = AllHeaders.index('Synopsis')\n",
    "    else: \n",
    "        print(\"something went wrong\")\n",
    "        return \n",
    "        \n",
    "    Post = AllHeaders.index('Appearances')\n",
    "\n",
    "    HeadlineName = AllHeaders[Pre+1:Post]\n",
    "    return HeadlineName"
   ]
  },
  {
   "cell_type": "markdown",
   "id": "universal-looking",
   "metadata": {},
   "source": [
    "### Access all releveant text (including captions)"
   ]
  },
  {
   "cell_type": "code",
   "execution_count": 8,
   "id": "mounted-berlin",
   "metadata": {},
   "outputs": [],
   "source": [
    "def GetText(HeadlineNames):\n",
    "    HeadlineNames += ['Appearances']\n",
    "\n",
    "    # Unwrap text\n",
    "    Texts = soup.find_all(['p','h2', 'h3'])\n",
    "    for section in Texts: \n",
    "        if section is not None:\n",
    "            if section.a is not None: \n",
    "                section.a.unwrap()\n",
    "            elif section.span is not None: \n",
    "                section.span.unwrap()\n",
    "\n",
    "    #S tore text in list\n",
    "    Texts = [t.text for t in Texts]\n",
    "\n",
    "    # Find section indices in Texts\n",
    "    CaptionIndices = []\n",
    "    for caption in HeadlineNames:         \n",
    "        CaptionIndices.append(Texts.index(caption))\n",
    "\n",
    "    # Store texts according to section\n",
    "    SectionText = []\n",
    "    for i in range(len(CaptionIndices)-1):\n",
    "        SectionText.append(Texts[CaptionIndices[i]+1:CaptionIndices[i+1]])\n",
    "\n",
    "\n",
    "    return SectionText\n",
    "\n"
   ]
  },
  {
   "cell_type": "code",
   "execution_count": 11,
   "id": "happy-thread",
   "metadata": {},
   "outputs": [],
   "source": [
    "#Initialise dataframe\n",
    "df = pd.DataFrame(columns = [\"season\", \"episode\", \"geo\", \"text\"])\n",
    "\n",
    "# Get all urls\n",
    "url = \"https://gameofthrones.fandom.com/wiki/\"\n",
    "EndAllUrls, Seasons = GetUrls(url)\n",
    "\n",
    "#Add season 1 through 5\n",
    "EndAllUrls = s1 +s2 + s3 + s4 + s5 + EndAllUrls \n",
    "s = []\n",
    "for i,j in enumerate([s1, s2, s3, s4, s5]):\n",
    "    s += SeasonList(j,['season' + str(i+1)])\n",
    "Seasons = s + Seasons\n",
    "\n",
    "\n",
    "root = 'https://gameofthrones.fandom.com'\n",
    "\n",
    "AllCaptions = []\n",
    "AllTexts = []\n",
    "AllSeasons = []\n",
    "AllEpisodes = []\n",
    "for endpath, season in zip(EndAllUrls, Seasons):\n",
    "    \n",
    "    # Webscrabe\n",
    "    #print(endpath)\n",
    "    soup, text, output = GetDocuments(root, endpath)\n",
    "\n",
    "    # Get section names\n",
    "    Captions = GetSectionName(soup)\n",
    "\n",
    "    # Get texts\n",
    "    SectionText = GetText(Captions)\n",
    "    \n",
    "    AllCaptions = AllCaptions + Captions[:-1]\n",
    "    AllTexts = AllTexts + SectionText\n",
    "    AllSeasons = AllSeasons + [season] * len(Captions[:-1])\n",
    "    \n",
    "    AllEpisodes = AllEpisodes + [endpath[6:]]*len(Captions[:-1])\n",
    "    \n",
    "    \n",
    "# Store in dataframe\n",
    "df['episode'] = AllEpisodes\n",
    "df['text'] = AllTexts\n",
    "df['season'] = AllSeasons\n",
    "df['geo'] = AllCaptions"
   ]
  },
  {
   "cell_type": "code",
   "execution_count": 28,
   "id": "nuclear-bikini",
   "metadata": {},
   "outputs": [],
   "source": [
    "df.to_csv('GOT.csv')"
   ]
  },
  {
   "cell_type": "code",
   "execution_count": null,
   "id": "convertible-walnut",
   "metadata": {},
   "outputs": [],
   "source": []
  },
  {
   "cell_type": "code",
   "execution_count": 14,
   "id": "falling-community",
   "metadata": {},
   "outputs": [],
   "source": [
    "caption = GetSectionName(soup)"
   ]
  },
  {
   "cell_type": "code",
   "execution_count": 15,
   "id": "9976f689-dd47-446f-9477-dc9dae79dcd4",
   "metadata": {},
   "outputs": [
    {
     "data": {
      "text/plain": [
       "[['Jaime Lannister speaks to Walder Frey.',\n",
       "  'Jaime Lannister and Bronn arrive at the Twins to celebrate their victory at Riverrun and the alliance between the Freys and the Lannisters. However, Jaime had to ride north from King\\'s Landing to retake Riverrun from The Blackfish with the persuasion of Edmure Tully. Walder Frey nevertheless crows over his victory and tries to build rapport with Jaime, stating that they are both \"kingslayers.\" Insulted by the comparison, Jaime asks him why the Lannisters need House Frey on their side when they cannot control the Riverlands and then leaves the feast.\\n',\n",
       "  \"Later, Walder Frey is seen eating dinner in his hall. When one of the servants serves him pie, he does not recognize this servant and immediately questions who she is, slapping her on the behind as he sarcastically wonders if she's one of his progeny. He goes on to gripe about the tardiness of his sons, Black Walder and Lothar Frey, to which the servant earnestly insists that they are already present. Eventually, Walder opens the pie and reacts in horror: he has been served the flesh of his own sons, a fingertip with nail still attached visible in the stuffing. The servant removes her face, revealing that she is Arya Stark of Winterfell, come to remind Walder of his crimes and take revenge. Arya cheerfully tells him that the last thing he is ever going to see is a Stark smiling down at him as he dies. Lord Walder is shocked and tries to escape, but Arya holds him and slits his throat. She smiles as she watches the man who murdered her mother, brother, and pregnant sister-in-law, and the last living mastermind of the Red Wedding, bleed to death.\\n\"],\n",
       " [\"In King's Landing, everyone is getting ready for the trial of Ser Loras Tyrell and Cersei Lannister. The smallfolk enter the Great Sept of Baelor, along with Queen Margaery Tyrell, Lord Mace Tyrell, and Ser Kevan Lannister. As Grand Maester Pycelle heads to the sept, a small child stops him and whispers something into his ear.\\n\",\n",
       "  'The Sparrows\\xa0of the Faith Militant bring Ser Loras in first, as the High Sparrow awaits. Instead of having a trial, Loras confesses to his crimes and tells the High Sparrow that he wishes to devote his life to the Faith. The High Sparrow tells him that this would mean that he renounces his family name and his future lordship of Highgarden, but Loras tearfully agrees. The Sparrow then grab him, hold him down and carve a seven-pointed star into his forehead. Mace actually tries to fight his way through the crowd to stop them but Margaery, her voice trembling, holds him back. Shocked, Margaery protests to the High Sparrow for mutilating her brother but the High Sparrow replies that he only promised to allow him to leave after Cersei faces her trial.\\n',\n",
       "  'The Sept is blown up with wildfire.',\n",
       "  'King Tommen prepares to depart the Red Keep for the trial of his mother but Ser Gregor Clegane prevents him from leaving his room. Lancel tells the High Sparrow that Cersei has yet to leave the Red Keep, so the High Sparrow asks him to go retrieve her. As Lancel is walking out, Arthur, one of Qyburn\\'s \"little birds\", lures him away to the catacombs below the Sept. Meanwhile, Pycelle follows Frances, another little bird, into a room where Qyburn awaits him. Qyburn apologizes to Pycelle for the inconvenience, then multiple children surround Pycelle and begin stabbing him repeatedly to death.\\n',\n",
       "  \"\\nMargaery, realizing something is very wrong since Cersei and Tommen are still not at the Great Sept for the trial, confronts the High Sparrow. She tells him that it's a trap, but he does not listen. Below the Sept, Lancel continues to follow Arthur, who drops the torch that he was carrying. When Lancel goes to pick up the torch, the child stabs him in the spine and runs off. Paralyzed from the waist down, Lancel looks around where he is laying and discovers that there is a cache of wildfire\\xa0(one of those\\xa0the Mad King\\xa0secreted beneath King's Landing as part of his plan to deny the city\\xa0to his enemies when facing certain defeat at the end of Robert's Rebellion) about to be set off with three candles at the end of the hall. He\\xa0desperately crawls toward\\xa0it in an attempt to put the candles out. Margaery tells everyone in the Sept they need to leave immediately, but the Faith Militant block the doors, preventing anyone from exiting. Lancel does not make it to the candles before the wildfire ignites, flooding the tunnels with green flame. In the Sept, the gathered nobles hear the muffled explosions before the fire punches through the floor, burning the High Sparrow down to his bones where he stands, then building to such intensity that the Great Sept shatters and crumbles to rubble, flinging debris far and wide and leveling the city for a mile around. \",\n",
       "  'Tommen stares at the ruins of the sept, knowing his wife is now dead...',\n",
       "  '...and takes his own life.',\n",
       "  ' Cersei, looking out one of the windows in her room, smiles at the explosion even as the screams of the terrified and dying population shatter the air. Meanwhile, from his own chambers, Tommen stares at the explosion in shock and disbelief. After being informed of the explosion and its casualties, including his beloved wife, Tommen takes his crown off his head, sets it down somewhere and then calmly steps out of the window to his death.\\n',\n",
       "  'Still feeling victorious, Cersei pays a visit to Septa Unella, who has been strapped to a table. Cersei awakens her by pouring a pitcher of wine on her face as she struggles. She prompts Septa Unella to confess that she enjoyed tormenting her during her imprisonment, not for the sake of the gods, but because it felt good. Continuing her mockery, Cersei smugly goes down a list, \"confessing\" that she committed her crimes, including her incestuous relationship with Jaime,\\xa0causing\\xa0Robert\\'s death,\\xa0and the massacre of the people in the sept because it all felt good. Finally, Cersei reminds Unella of the promise she made that her face would be the last thing the septa saw before her death, to which Septa Unella stiffly declares that she is not afraid to die. Cersei gleefully assures her that she will not die right away and her torture will last many days and brings in Ser Gregor Clegane, who removes his helmet and begins his work. Walking away and closing the door, Cersei echoes the word \"shame\" three times, just as Unella did during Cersei\\'s Walk of Atonement while the Septa screams in horror at her fate at Ser Gregor\\'s hands.\\n',\n",
       "  \"After Tommen's body is found, Cersei's triumph is greatly diminished. Standing by his covered remains with Qyburn, she insists on seeing her son's face one last time. Qyburn asks Cersei what she wants to do about funeral arrangements, since the Sept of Baelor is obviously no longer an option. She tells him to burn the body and bury the ashes where the Great Sept of Baelor once stood, so that Tommen may rest with his brother, sister, and grandfather.\\n\",\n",
       "  \"Jaime, Bronn and the Lannister army they are leading arrive back at King's Landing, but their looks of triumph turn to those of shock as they witness smoke pouring from where the Great Sept and its surrounding districts once stood. Later, Cersei and her Kingsguard enter the throne room, the path to the Iron Throne flanked by Lannister guards. Cersei ascends the steps and stands before the throne. Qyburn, who is now her Hand, proclaims Cersei Queen of the Seven Kingdoms and all the associated titles. He places a crown on her head and she sits down on the throne. The crowd of nobles assembled to witness the coronation glare at her with undisguised hatred, aware of what she did in order to gain power, seemingly professing their loyalty only out of fear of Cersei's wrath, but she has eyes only for Jaime, whose expression is stony. Cersei has achieved her ultimate ambition to become Queen of the Seven Kingdoms - or at least, what little of it the Lannisters still control.\\n\"],\n",
       " [\"Sam in the Citadel's library.\",\n",
       "  'Sam, Gilly, and her son finally arrive at Oldtown, spotting the Hightower, with dozens of white ravens being released, signalling the arrival of winter.\\n',\n",
       "  \"After arriving at a bureaucrat's desk in the Citadel, Sam informs the maester he has been sent by the Night's Watch's Lord Commander, Jon Snow, to be trained as a maester. The bureaucrat, maintaining a deadpan expression, is hesitant because Jeor Mormont and Aemon are recorded as Lord Commander and Maester of Castle Black. Sam awkwardly informs him that the two died before ravens could be sent out. While he arranges for Sam to meet with one of the Archmaesters, he allows him access to the Citadel's library, but sharply bars Gilly and her son from following. As Sam explores the library by himself, he is in awe of the vast collection of books and scrolls.\\n\"],\n",
       " ['Bran sees the vision of his father and Aunt Lyanna.',\n",
       "  'Benjen drops Meera and Bran off at a grove with a weirwood heart tree in sight of the Wall, as he can go no farther. When Bran asks why, Benjen replies that the magic of the Wall prevents the dead from crossing, such as himself. He plans to do what he can to prepare for the coming war, as he still fights for the living.\\n',\n",
       "  \"After thanking his uncle, who rides off on his horse, Bran turns his attention to the weirwood tree. Meera expresses doubts about his readiness, but Bran insists that he must be the Three-Eyed Raven, and places his hand on the face carved into the tree. He has another vision of the events at the Tower of Joy, right where he had left off before the old Three-Eyed Raven interrupted. Having learned his lesson, Bran does not call after his father, who still turns around briefly before rushing into the Tower. Inside, Ned - followed along by Bran - discovers his sister Lyanna Stark lying in bed with blood-stained sheets, being tended to by a few handmaidens. One of the handmaidens hands a newborn baby to Ned, who takes the child in his arms. A weakened Lyanna whispers to Ned of the baby's identity and the baby is revealed as her son. She begs Ned to promise he'll keep her child safe, as Robert would kill him should his identity be discovered. As Ned looks at his infant nephew, the child's eyes open up to reveal the dark-colored eyes of\\xa0Jon Snow. Bran realizes Jon is Lyanna's son.\\n\"],\n",
       " [\"Melisandre and Jon Snow are in Winterfell's main hall, where the latter is reminiscing, when Ser Davos Seaworth angrily strides in and tosses Princess Shireen's burned wooden stag to Melisandre, demanding that she explain herself. At first, she is silent, but as Davos loses his composure, she admits that she convinced King Stannis Baratheon to sacrifice his own daughter to the Lord of Light. She defends herself by saying that it needed to be done because Stannis's forces were stranded by the snows; and that Shireen's parents made the decision as well. Davos quickly dismisses this defense by pointing out they died anyway. He goes on to exclaim that her god is evil and tearfully admits that he loved Shireen Baratheon as his own daughter. Fighting back tears, Melisandre concedes that she made a mistake. Davos finishes by stating that because of her mistake, not only did an innocent child die for a lost cause, so did many more good soldiers. \",\n",
       "  'Melisandre is told to leave and never to return.',\n",
       "  \" Davos demands Jon's leave to execute Melisandre for her actions. Jon, upon learning of this, asks Melisandre if she has anything to say for herself. She replies that she only followed the Lord of Light and implies that he is also responsible for bringing Jon back to life and insists she can still be of use in the battles to come against the Night King. Still greatly displeased, Jon tells Melisandre to ride south, or he will hang her as a murderer; Davos adds that he will personally execute her if she ever shows up in the North again.\\n\",\n",
       "  \"As Jon and Sansa look on as Melisandre is leaving Winterfell, Jon tells Sansa that he has had Eddard and Catelyn's master bedroom prepared for her, though she insists that he should have it. Jon remarks that Sansa is the Lady of Winterfell and because of her they are alive and have Winterfell back. Sansa apologizes for not telling him about Littlefinger's Knights of the Vale. He asks Sansa if she trusts Littlefinger, which she firmly denies. With that, Jon tells her that they have to trust each other because the Starks have many enemies, and then gently kisses her on the forehead. Sansa informs Jon that a white raven arrived earlier; winter has finally arrived, just as Eddard has always promised.\\n\",\n",
       "  \"Later, in the godswood, Littlefinger approaches Sansa. She asks him what it is that he wants from her. He admits that he wants the Iron Throne, with her at his side. He moves in to kiss her but she stops him and walks away. Petyr states he has openly declared for House Stark. Sansa reminds him that he has declared for other houses in the past, which didn't stop him from serving himself. He contests that was the past, but he is looking towards the future, adding that she is the future of House Stark. Ever insidious, he asks her who the North should rally behind: a trueborn daughter of Ned and Catelyn Stark, or a motherless bastard born in the south. Sansa considers his words but keeps walking without turning to look at him.\\n\",\n",
       "  '\\nAfterward, at the Great Hall of Winterfell, Lord Yohn Royce speaks against allying the Knights of the Vale with wildling invaders. Tormund counters that they were invited into the realm and thus are not invaders. Jon reminds the assembly that the Free Folk fought side by side with the Northmen and the Knights of the Vale and won, then adds that his father used to say true friends are found on the battlefield. Lord Cley Cerwyn argues that with the Boltons defeated, the war is over and that winter has arrived, the coldest one in a thousand years according to the Maesters. He then proposes everyone to ride home and wait out the coming storms. Jon counters that the war is not over and the true enemy doesn\\'t wait out the storm, he \"brings the storm.\" The assembled begin to argue amongst themselves. ',\n",
       "  'Jon becomes the King of the North.',\n",
       "  \" At this, Lyanna Mormont stands up and speaks to Lord Wyman Manderly about how his son was murdered at the Red Wedding, yet he recently refused the Stark summons. She then turns to Lord Robett Glover and reminds him how he swore an oath to House Stark, yet refused to aid them in their hour of greatest need. Finally, she confronts Lord Cley Cerwyn, and reminds him that his father was flayed alive by Ramsay Bolton, yet he also refused to aid the Starks. She then adds that both House Mormont and the North remember they have no king but the King in the North, whose name is Stark. She doesn't care that Jon Snow is a bastard, for he has the blood of Ned Stark; thus he is her king until his death.\\n\",\n",
       "  'The assembled begin to quietly discuss, until Lord Wyman stands up, admitting that Lady Mormont speaks harshly but truly; then adds that, after his son died for the Young Wolf, he ignored Jon\\'s summons to keep more Manderlys from dying for a lost cause but that he was wrong: Jon has avenged the Red Wedding; he is the \"White Wolf,\" the King in the North. He bares his sword and kneels. Lord Robett is the next one to stand up, stating his regret for not fighting beside Jon and asking for forgiveness. Jon humbly says that there is nothing to forgive. Lord Glover turns to the rest of the lords, announcing there will be more fights to come, and that House Glover will stand behind House Stark as it had for a thousand years. He also bares his sword and kneels, hailing Jon as the King in the North. Inspired, the rest of the assembly- including the Lords of the Vale- stands up, following the example and hailing Jon as King in the North - as the Northern lords and Riverlords had done for Robb some years ago. Even Davos joins, declaring his allegiance. Pleased, Lady Mormont watches her elder, male counterparts and cheers. Jon stands up and shares a look with a smiling Sansa. However, Sansa\\'s smile fades as Littlefinger looks at her in a sinister fashion.\\n'],\n",
       " ['Ellaria and the Sand Snakes meet with Olenna Tyrell, who is now in mourning after the deaths of her son and grandchildren. After the Queen of Thorns shuts down the Sand Snakes\\' attempts to speak, Ellaria suggests that they must work together for survival, as Cersei has declared war on both of their factions. Despite expressing her distrust of Ellaria for orchestrating the deaths of Doran Martell and Trystane Martell, the brother and nephew, respectively, of the very same man whom she sought to avenge, Olenna clarifies that her House\\'s future has been taken from her; survival is not what she is after now. Ellaria then promises that an alliance with them will give Olenna her new heart\\'s desire. When Olenna sardonically asks what that is, Ellaria states that it is \"justice and vengeance.\" At that moment, Varys reveals himself, and rephrases: \"Fire and Blood.\"\\n'],\n",
       " [\"Daario Naharis meets Queen Daenerys Targaryen, reporting that the fleet is nearly ready. He's eager to see how the Dothraki do on the open sea. Daenerys says that Daario won't be joining them, which Daario interprets to mean that he will go on to seize Casterly Rock to cut off the Lannister retreat. Dany clarifies that Daario is to stay in Meereen with the Second Sons, to keep the peace until the city can safely choose its own ruler. Furthermore, she cannot bring her lover to Westeros, as marriage is still her most valuable bargaining chip when considering new alliances. Daario begs her to take him, pointing out that kings have lovers on the side all the time, and queens should be no different, but Daenerys stands firm. Daario realizes that Tyrion Lannister convinced her to leave him behind but admits that it is politically a good move. Full of self-pity, he muses that no woman could ever compare to the Mother of Dragons, although she is sure he will have many more lovers. Daenerys assures him that she will leave specific instructions for him to follow in governing the renamed Bay of Dragons. Daario takes his leave. \",\n",
       "  'Dany and her fleet head to Westeros.',\n",
       "  \" When he departs, she goes to see Tyrion, who unsuccessfully tries to console her. Dany thanks him, but admits that she is not upset about Daario; rather, she was frightened that she was able to dismiss someone who loves her so much so easily. Tyrion says that Daario wasn't the first man to love Daenerys, and won't be the last. Dany then turns the topic to Tyrion's rule of Meereen in her absence. After defending his actions, Tyrion says that he gave up on believing in himself or in anyone or anything else, but that he believes in her. Touched, Daenerys gives Tyrion a pin she had made for him: the brooch of the Hand of the Queen. Tyrion, struck with emotion, proceeds to kneel in front of her.\\n\",\n",
       "  'Some time later, Drogon, Rhaegal and Viserion fly over the assembled Dothraki, ironborn, Dornishmen, Reachmen, and Unsullied fleet of House Targaryen. Daenerys, clad in Targaryen black, stands on the deck of the flagship with Tyrion, Missandei, and Varys, looking ahead to the next round of the game of thrones: either the gift of a new ally, or another massive war within House Targaryen for the Iron Throne.\\n']]"
      ]
     },
     "execution_count": 15,
     "metadata": {},
     "output_type": "execute_result"
    }
   ],
   "source": [
    "GetText(caption)"
   ]
  },
  {
   "cell_type": "code",
   "execution_count": null,
   "id": "3055c7f1-209d-40c4-9628-14c7db2fbb9b",
   "metadata": {},
   "outputs": [],
   "source": []
  }
 ],
 "metadata": {
  "kernelspec": {
   "display_name": "Python 3",
   "language": "python",
   "name": "python3"
  },
  "language_info": {
   "codemirror_mode": {
    "name": "ipython",
    "version": 3
   },
   "file_extension": ".py",
   "mimetype": "text/x-python",
   "name": "python",
   "nbconvert_exporter": "python",
   "pygments_lexer": "ipython3",
   "version": "3.9.2"
  }
 },
 "nbformat": 4,
 "nbformat_minor": 5
}
