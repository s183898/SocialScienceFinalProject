{
 "cells": [
  {
   "cell_type": "code",
   "execution_count": 1,
   "id": "material-tucson",
   "metadata": {},
   "outputs": [],
   "source": [
    "import pandas as pd\n",
    "import json\n",
    "from ast import literal_eval\n",
    "import numpy as np\n",
    "import networkx as nx\n",
    "import netwulf as nw\n",
    "import matplotlib.pyplot as plt\n",
    "import community as community_louvain\n",
    "from itertools import combinations\n",
    "import re\n",
    "from nltk import word_tokenize\n",
    "import seaborn as sns"
   ]
  },
  {
   "cell_type": "code",
   "execution_count": 2,
   "id": "figured-substance",
   "metadata": {},
   "outputs": [],
   "source": [
    "def Plot(Samples, Names, color,numbins):\n",
    "    fig, ax = plt.subplots(1,1)\n",
    "    sns.set_style(\"darkgrid\")\n",
    "     \n",
    "    MAX = np.max(Samples)\n",
    "    MIN = np.min(Samples)\n",
    "    bins = np.linspace(MIN,MAX,numbins)\n",
    "    hist, edges = np.histogram (Samples, bins = bins, density = False)\n",
    "    x = (edges[1:]+edges[:-1])/2\n",
    "    width = bins[1]-bins[0]\n",
    "\n",
    "\n",
    "    ax.bar(x, hist, width = width*0.9, color =  color)\n",
    "    ax.set_xlabel(\"\")\n",
    "    ax.set_ylabel(\"\")\n",
    "    ax.set_title(Names)\n",
    "    \n",
    "    plt.show()\n",
    "    return"
   ]
  },
  {
   "cell_type": "markdown",
   "id": "developmental-reunion",
   "metadata": {},
   "source": [
    "### Function for data cleaning"
   ]
  },
  {
   "cell_type": "code",
   "execution_count": 3,
   "id": "three-decade",
   "metadata": {},
   "outputs": [],
   "source": [
    "def CleanData(data): \n",
    "    \n",
    "    \"\"\"\n",
    "    input: dataframe with columns: season, episode, geographical location, text\n",
    "    \n",
    "    returns: cleaned dataframe with same columns\n",
    "    \"\"\"\n",
    "    # remove \"recap\" secitons\n",
    "    IndicesToBeRemoved = data.index[data['geo'] == 'Recap'].tolist()\n",
    "    data = data.drop(IndicesToBeRemoved, axis=0)   \n",
    "\n",
    "    # Get on list form \n",
    "    data['text']  = [literal_eval(l) for l in data.text]\n",
    "\n",
    "    # remove newline\n",
    "    for i in range(len(data)):\n",
    "        text = data['text'].iloc[i]\n",
    "\n",
    "        # remove newline\n",
    "        text = [t.strip() for t in text]\n",
    "\n",
    "        # split in non-sign tokens\n",
    "        tokens = []\n",
    "        for t in text: \n",
    "            tokens = tokens + re.split(r'\\W', t)\n",
    "\n",
    "        # join tokens \n",
    "        text = ' '.join(tokens)\n",
    "        text = text.replace(' s ', ' ')\n",
    "        text = text.replace('  ', ' ')\n",
    "\n",
    "        data['text'].iloc[i] = text\n",
    "    \n",
    "    return data"
   ]
  },
  {
   "cell_type": "markdown",
   "id": "southwest-thesis",
   "metadata": {},
   "source": [
    "### Function for characternames loading"
   ]
  },
  {
   "cell_type": "code",
   "execution_count": 4,
   "id": "intense-murray",
   "metadata": {},
   "outputs": [],
   "source": [
    "def CharacterNames(path):\n",
    "    \"\"\"\n",
    "    input: path to json\n",
    "    returns: list of character names \n",
    "    \"\"\"\n",
    "    \n",
    "    CN = []\n",
    "    with open(path) as json_file:\n",
    "        data = json.load(json_file)\n",
    "        for p in data['characters']:\n",
    "            CN.append(p['characterName'])\n",
    "\n",
    "    removes = []\n",
    "    for name in CN: \n",
    "        if \"Little Bird\" in name or 'Great Master' in name or \"Night's\" in name or \"White Walker\" in name or 'Musician' in name or \"Winterfell\" in name:\n",
    "            removes.append(name)\n",
    "        if \"Guard\" in name or \"Bloodrider\" in name or \"Goldcloak\" in name or \"King's Landing Rioter\" in name or \"Dwarf\" in name or \"Old Man\" in name:\n",
    "            removes.append(name)\n",
    "            \n",
    "        if \"Bannerman\" in name or \"Young\" in name or \"Lannister Captain\" in name or \"Lannister Captain\" in name or \"Wedding\" in name or 'Ghost' in name:\n",
    "            removes.append(name)\n",
    "        \n",
    "        if \"Lannister Messenger\" in name or \"Lannister Scout\" in name or \"Nymeria Sand\" in name: \n",
    "            removes.append(name)\n",
    "            \n",
    "\n",
    "    removes.append(\"Lady\")\n",
    "\n",
    "    CN = [name for name in CN if name not in removes] \n",
    "\n",
    "    CN = CN + ['Varys', \"The Mountain\", \"Selyse Florent\" , \"Littlefinger\",\n",
    "                                     \"Wun Weg Wun Dar Wun\", \"Harrag\", \"Archmaester Ebrose\", \"The High Sparrow\", 'Dany']\n",
    "    \n",
    "    CN = np.array(CN)\n",
    "    CN[CN == 'Ramsay Snow'] = 'Ramsay Snow/Bolton'\n",
    "    \n",
    "    return CN\n"
   ]
  },
  {
   "cell_type": "markdown",
   "id": "vertical-magic",
   "metadata": {},
   "source": [
    "# Method for findind connected characters\n",
    "#### Characters who appears in same geographical location in same episode."
   ]
  },
  {
   "cell_type": "code",
   "execution_count": 5,
   "id": "naughty-brighton",
   "metadata": {},
   "outputs": [],
   "source": [
    "def GetFullyConnectedSubgraps(data, CN, n1, nh): \n",
    "    \n",
    "    \"\"\"\n",
    "    input: data: data with season, episode, geo and text. \n",
    "           CN: list of characternames\n",
    "           n1, nh: character specific information (n1: keep 2. name, nh: keep full name)\n",
    "           \n",
    "    returns: dict with (season, episode, geo) as key and names of characters connected via info from key\n",
    "             and list of name triplets (name to search for, name to search for minus space, full name)\n",
    "    \"\"\"\n",
    "    \n",
    "    # Get connections\n",
    "    Connections = {}\n",
    "    NewCN = []\n",
    "    for _,row in data.iterrows(): #all texts \n",
    "        TextEdges = []\n",
    "\n",
    "        for name in CN: #all names \n",
    "            n = name\n",
    "\n",
    "            # first name \n",
    "            if ' ' in name:\n",
    "                fn = re.split(r'\\W', name)[0] #first name \n",
    "                ln = re.split(r'\\W', name)[1] #last name\n",
    "\n",
    "                if fn in nh or ln == 'of': \n",
    "                    n = name\n",
    "\n",
    "                elif fn in n1: \n",
    "                    n = ln          \n",
    "                else:\n",
    "                    n = fn\n",
    "\n",
    "            else: \n",
    "                pass\n",
    "\n",
    "            if n in row['text']:  #check if name in text \n",
    "                TextEdges.append(name)\n",
    "                if (n, n.replace(\" \", \"\"), name) not in NewCN: \n",
    "                    NewCN.append((n, n.replace(\" \", \"\"), name))\n",
    "\n",
    "        # Store connection \n",
    "        Connections[(row['season'],row['episode'], row['geo'])] = set(TextEdges)\n",
    "       \n",
    "    return Connections, NewCN\n"
   ]
  },
  {
   "cell_type": "markdown",
   "id": "hollywood-floating",
   "metadata": {},
   "source": [
    "# Structure connected characters in a dataframe"
   ]
  },
  {
   "cell_type": "code",
   "execution_count": 6,
   "id": "civilian-builder",
   "metadata": {},
   "outputs": [],
   "source": [
    "def NamesDf(Connections, save = False):\n",
    "    \"\"\"\n",
    "    input: Connections: dict with keys = (season, episode, geograpic location) and value = set of characters mentioned in corresponding text\n",
    "           save: True if dataframe is to be saved\n",
    "           \n",
    "    returns: Dataframe with index = characternames and content = connections and season, episode and geo for connection\n",
    "    \"\"\"\n",
    "    \n",
    "    #  Initialise new dataframe\n",
    "    Names = pd.DataFrame(columns = ['name'], data = CN)\n",
    "    Names['ConnectedTwo'] = [None]*len(CN)\n",
    "\n",
    "    # Create list of connections for each character\n",
    "    for _, row in Names.iterrows():\n",
    "        c = []\n",
    "        for key, val in Connections.items(): \n",
    "            if row['name'] in val: \n",
    "                c.append((key, val))\n",
    "\n",
    "        row['ConnectedTwo'] = c\n",
    "\n",
    "    Names.index = Names['name']\n",
    "    del Names['name']\n",
    "\n",
    "\n",
    "    # Merge nicknames and names\n",
    "    # Daenerys Targaryen\n",
    "    dany = Names.loc['Dany', 'ConnectedTwo'] + Names.loc['Daenerys Targaryen', 'ConnectedTwo']\n",
    "    if len(dany) == 133: \n",
    "        Names.loc['Daenerys Targaryen'].ConnectedTwo = dany\n",
    "\n",
    "    # Store in csv\n",
    "    if save: \n",
    "        Names.to_csv('Names.csv')\n",
    "        \n",
    "    return Names"
   ]
  },
  {
   "cell_type": "markdown",
   "id": "dated-contents",
   "metadata": {},
   "source": [
    "# Methods for finding weights and links"
   ]
  },
  {
   "cell_type": "code",
   "execution_count": 7,
   "id": "critical-commodity",
   "metadata": {},
   "outputs": [],
   "source": [
    "def NodeWeight(text, CN):\n",
    "    \"\"\"\n",
    "    input: text: String \n",
    "    input: CN: List of tripplets with names (name to search for, name to search for minus space, full name)\n",
    "    returns: count_dict: frequency of names in text\n",
    "    \"\"\"\n",
    "    \n",
    "    CN0 = [i for i,_,_ in CN]\n",
    "    CN1 = [i for _,i,_ in CN]\n",
    "    CN2 = [i for _,_,i in CN]\n",
    "\n",
    "    #remove space in names of interest \n",
    "    for cn0, cn1 in zip(CN0, CN1):\n",
    "        text = text.replace(cn0, cn1)\n",
    "        \n",
    "    # Tokenize\n",
    "    tokens = word_tokenize(text)\n",
    "        \n",
    "    count_dict = {name: 0 for name in CN2}\n",
    "    \n",
    "    for word in tokens:\n",
    "        if word in CN1:\n",
    "            \n",
    "            idx = CN1.index(word)\n",
    "            count_dict[CN2[idx]] = count_dict[CN2[idx]] + 1\n",
    "            \n",
    "    return count_dict"
   ]
  },
  {
   "cell_type": "code",
   "execution_count": 8,
   "id": "future-modem",
   "metadata": {},
   "outputs": [],
   "source": [
    "def GetEdges(Connections): \n",
    "    \n",
    "    \"\"\"\n",
    "    input: Connections: dict with keys = (season, episode, geograpic location) and value = set of characters mentioned in corresponding text\n",
    "    \n",
    "    returns: set of edges\n",
    "    \"\"\"\n",
    "    \n",
    "    # Get all edges\n",
    "    Edges = []\n",
    "    for g in Connections.values(): \n",
    "        Edges += [i for i in combinations(g, 2)] #for each fully connected subgraph, add all links in that graph \n",
    "\n",
    "    # Remove double. tripple etc. edges \n",
    "    Edges = [tuple(sorted(edge)) for edge in Edges]\n",
    "    Edges = set(Edges)\n",
    "    \n",
    "    return Edges"
   ]
  },
  {
   "cell_type": "code",
   "execution_count": 9,
   "id": "satellite-reverse",
   "metadata": {},
   "outputs": [],
   "source": [
    "def GetLinkWeights(Edges, Connections):\n",
    "    \n",
    "    \"\"\"\n",
    "    input: Edges: Set of Edges\n",
    "           Connections: dict with keys = (season, episode, geograpic location) and value = set of characters mentioned in corresponding text\n",
    "           \n",
    "    returns: WeightsInput: list of triplets each with a pair of connected nodes as well as the link weight. \n",
    "    \"\"\"\n",
    "    \n",
    "    Weights = {edge: 0 for edge in Edges}\n",
    "    for edge in Weights.keys(): \n",
    "        w = 0\n",
    "        for s in Connections.values(): \n",
    "            if (edge[0] in s) and (edge[1] in s): \n",
    "                w +=1\n",
    "        Weights[edge] = w\n",
    "\n",
    "    WeightsInput = [(key[0],key[1], {'weight': val}) for key, val in Weights.items()] \n",
    "    \n",
    "    return WeightsInput"
   ]
  },
  {
   "cell_type": "code",
   "execution_count": 10,
   "id": "instructional-links",
   "metadata": {},
   "outputs": [],
   "source": [
    "def Cutoff(G, a, b, c, link_weight, GetMinWeightCutOff = False, GetDegCutOff = False, GetNodeSize = False): \n",
    "    \"\"\"\n",
    "    input: Graph\n",
    "           a: min link weight\n",
    "           b: min number of degrees in node\n",
    "           c: min node size\n",
    "           GetMinWeightCutOff, GetDegCutOff: Booleans\n",
    "    output: Nodes and/or links to be removed\n",
    "    \"\"\"\n",
    "    DelNodeSize, DelNodeDeg, DelEdge = [], [], []\n",
    "    # Weight cut off: \n",
    "    if GetMinWeightCutOff:\n",
    "        for name1, name2, d in link_weight: \n",
    "            if int(d['weight']) < a: \n",
    "                DelEdge.append((name1,name2))\n",
    "            \n",
    "\n",
    "    # Node cutof based on degree: \n",
    "    if GetDegCutOff: \n",
    "        for key, val in dict(G_W.degree()).items(): \n",
    "            if val < b: \n",
    "                DelNodeDeg.append(key)\n",
    "                \n",
    "                 \n",
    "    # Weight Distribution\n",
    "    if GetNodeSize:\n",
    "        for node in G_W.nodes:\n",
    "            if G_W.nodes[node][\"size\"] < c:\n",
    "                DelNodeSize.append(node)\n",
    "                \n",
    "    for e in DelEdge:\n",
    "        G_W.remove_edge(e[0], e[1])\n",
    "\n",
    "    for n in DelNodeDeg: \n",
    "        G_W.remove_node(n)\n",
    "        \n",
    "    for n in DelNodeSize: \n",
    "        G_W.remove_node(n)\n",
    "\n",
    "    return G_W, DelNodeSize, DelNodeDeg, DelEdge\n",
    "\n",
    "\n",
    "def ZeroDegCutOff(G): \n",
    "    \"\"\"\n",
    "    input: Graph\n",
    "    \"\"\"\n",
    "    \n",
    "    # Nodes with zero degree: \n",
    "    Del = []\n",
    "    for name, d in G.degree():\n",
    "        if d == 0: \n",
    "            Del.append(name)\n",
    "            \n",
    "    for name in Del: \n",
    "        G.remove_node(name)\n",
    "        \n",
    "    return G\n",
    "\n",
    "\n",
    "\n"
   ]
  },
  {
   "cell_type": "markdown",
   "id": "sized-graph",
   "metadata": {},
   "source": [
    "# Weighted graph method"
   ]
  },
  {
   "cell_type": "code",
   "execution_count": 11,
   "id": "overall-teach",
   "metadata": {},
   "outputs": [],
   "source": [
    "# Join all text\n",
    "\n",
    "def WeightedGraph(data, Connections, NewCN): \n",
    "    \n",
    "    \"\"\"\n",
    "    input: Connections:  dict with keys = (season, episode, geograpic location) and value = set of characters mentioned in corresponding text            \n",
    "           \n",
    "    returns: Weighted graph.\n",
    "             link_weight: weight of links. Used for cutof outside function\n",
    "             \n",
    "    \"\"\"\n",
    "    \n",
    "    #Join text \n",
    "    alltext = ' '.join(data.text.values)\n",
    "    \n",
    "    # Compute node weights\n",
    "    node_weight = NodeWeight(alltext, NewCN)\n",
    "    \n",
    "    # Find links: \n",
    "    Edges = GetEdges(Connections)\n",
    "    \n",
    "    # Compute link weight\n",
    "    link_weight = GetLinkWeights(Edges, Connections)\n",
    "    \n",
    "    # Initialise weighted graph: \n",
    "    G_W = nx.Graph()\n",
    "\n",
    "    # Add nodes\n",
    "    G_W.add_nodes_from(set().union(*Connections.values()), LouvainPartition = None, group = None, size = None)\n",
    "\n",
    "    # Add node size (weight)\n",
    "    for key, val in node_weight.items(): \n",
    "        G_W.nodes[key]['size'] = val\n",
    "\n",
    "    # Add links and weights\n",
    "    G_W.add_edges_from(link_weight)\n",
    "    \n",
    "        \n",
    "    # Remove nodes with zero degree\n",
    "    G_W = ZeroDegCutOff(G_W)\n",
    "    \n",
    "    return G_W, link_weight\n",
    "    "
   ]
  },
  {
   "cell_type": "markdown",
   "id": "hairy-fifty",
   "metadata": {},
   "source": [
    "# Unweighted graph method"
   ]
  },
  {
   "cell_type": "code",
   "execution_count": 12,
   "id": "daily-irrigation",
   "metadata": {},
   "outputs": [],
   "source": [
    "def UnweightedGraph(Connections):\n",
    "    \n",
    "    # Compute links: \n",
    "    Edges = GetEdges(Connections)\n",
    "\n",
    "    #Initialise\n",
    "    G = nx.Graph()\n",
    "\n",
    "    # Add nodes\n",
    "    G.add_nodes_from(set().union(*Connections.values()), LouvainPartition = None, group = None)\n",
    "\n",
    "    # Add edges to graph \n",
    "    G.add_edges_from(Edges)  \n",
    "    \n",
    "    # Remove nodes with zero degee\n",
    "    G = ZeroDegCutOff(G)\n",
    "    \n",
    "    return G"
   ]
  },
  {
   "cell_type": "markdown",
   "id": "automotive-pulse",
   "metadata": {},
   "source": [
    "# Modularity"
   ]
  },
  {
   "cell_type": "code",
   "execution_count": 13,
   "id": "orange-franchise",
   "metadata": {},
   "outputs": [],
   "source": [
    "def GraphModularity(graph, p):\n",
    "    \"\"\"\n",
    "    input: graph: networkX graph or list of nodes and attributes\n",
    "           p: Partition definer: list containing attribute dict key and tuple with attribute dict values\n",
    "           \n",
    "    return: Modularity of graph\n",
    "    \"\"\"\n",
    "    #Number of links in graph: \n",
    "    L = len(graph.edges())\n",
    "\n",
    "    M = 0\n",
    "    key = p[0] #\n",
    "    p = p[1]\n",
    "    deg = {i:0 for i in p}\n",
    "    links = {i:0 for i in p}\n",
    "\n",
    "    # loop through graph nodes: \n",
    "    for node in graph: \n",
    "        par = graph.nodes[node][key] # node partition \n",
    "        deg[par] += graph.degree[node] # node degree\n",
    "\n",
    "        l = sum([w.get(weight, 1)/2 for n,w in graph[node].items() if graph.nodes[node][key] == graph.nodes[n][key]])\n",
    "\n",
    "        links[par] += l\n",
    "\n",
    "\n",
    "    for par in p: \n",
    "        M += links[par]/L - (deg[par]/(2*L))**2\n",
    "\n",
    "    return M"
   ]
  },
  {
   "cell_type": "markdown",
   "id": "residential-decline",
   "metadata": {},
   "source": [
    "# Prepare data"
   ]
  },
  {
   "cell_type": "code",
   "execution_count": 14,
   "id": "thousand-chocolate",
   "metadata": {},
   "outputs": [
    {
     "name": "stderr",
     "output_type": "stream",
     "text": [
      "/Library/Frameworks/Python.framework/Versions/3.8/lib/python3.8/site-packages/pandas/core/indexing.py:1637: SettingWithCopyWarning: \n",
      "A value is trying to be set on a copy of a slice from a DataFrame\n",
      "\n",
      "See the caveats in the documentation: https://pandas.pydata.org/pandas-docs/stable/user_guide/indexing.html#returning-a-view-versus-a-copy\n",
      "  self._setitem_single_block(indexer, value, name)\n"
     ]
    }
   ],
   "source": [
    "# Load character names: \n",
    "path = 'characters.json'\n",
    "CN = CharacterNames(path)\n",
    "\n",
    "# Load data\n",
    "data = pd.read_csv('GOT.csv')\n",
    "\n",
    "# Clean data \n",
    "data = CleanData(data)  \n",
    "\n",
    "# Names with need for special treatment\n",
    "n1 = [\"Archmaester\", \"Baby\", \"Barristan\", \"Captain\", \"Khal\"]\n",
    "nh = [\"Black\", \"Brother\", \"Child\", \"Grey\", \"High\", \"Knight\" , \"Robert\", \"Rickard\", \"Three-eyed\", \"The\", \"Wun\", \"Will\", \"Lord\", \"Jon\", \"Red\", \"Maester\", \"Ser\", \"Lyanna\", \"Lady\", \n",
    "     \"Grand\", \"Old\", \"Septa\", \"Hot\", \"Thin\", \"Lem\", \"Selyse\", \"Nymeria\", \"Arthur\", \"Jaqen\", \"Margaery\"]"
   ]
  },
  {
   "cell_type": "markdown",
   "id": "social-walnut",
   "metadata": {},
   "source": [
    "# Graphs incl. all seasons\n",
    "\n",
    "### Weighted graph:"
   ]
  },
  {
   "cell_type": "code",
   "execution_count": 126,
   "id": "animated-explanation",
   "metadata": {},
   "outputs": [],
   "source": [
    "# Retrieve info of who is connected\n",
    "Connections, NewCN = GetFullyConnectedSubgraps(data, CN, n1, nh)\n",
    "\n",
    "G_W, link_weight = WeightedGraph(data, Connections, NewCN)"
   ]
  },
  {
   "cell_type": "code",
   "execution_count": 127,
   "id": "moved-workplace",
   "metadata": {},
   "outputs": [
    {
     "data": {
      "image/png": "[encoded data removed]",
      "text/plain": [
       "<Figure size 432x288 with 1 Axes>"
      ]
     },
     "metadata": {},
     "output_type": "display_data"
    }
   ],
   "source": [
    "# Degree distribution\n",
    "degreedist = [d for _,d in G_W.degree()]\n",
    "Plot(degreedist, \"Degree distribution of weighted graph\", \"green\", 50)"
   ]
  },
  {
   "cell_type": "code",
   "execution_count": 128,
   "id": "bottom-mechanics",
   "metadata": {},
   "outputs": [
    {
     "data": {
      "image/png": "[encoded data removed]",
      "text/plain": [
       "<Figure size 432x288 with 1 Axes>"
      ]
     },
     "metadata": {},
     "output_type": "display_data"
    }
   ],
   "source": [
    "# Size distribution\n",
    "sizedist = [val['size'] for val in dict(G_W.nodes.data()).values()]\n",
    "Plot(sizedist, \"Node size distribution of weighted graph\", \"green\", 70)"
   ]
  },
  {
   "cell_type": "code",
   "execution_count": 129,
   "id": "respective-syntax",
   "metadata": {},
   "outputs": [
    {
     "data": {
      "image/png": "[encoded data removed]",
      "text/plain": [
       "<Figure size 432x288 with 1 Axes>"
      ]
     },
     "metadata": {},
     "output_type": "display_data"
    }
   ],
   "source": [
    "# Weight distribution\n",
    "weightdist = [w['weight'] for _, _, w in link_weight]\n",
    "Plot(weightdist, \"Link weight distribution of weighted graph\", \"green\", 70)"
   ]
  },
  {
   "cell_type": "code",
   "execution_count": 130,
   "id": "prime-action",
   "metadata": {},
   "outputs": [
    {
     "name": "stdout",
     "output_type": "stream",
     "text": [
      "Number of nodes in weigthed graph: 239\n",
      "Number of links in weighted graph: 6548\n"
     ]
    }
   ],
   "source": [
    "# Remove nodes and edges based on cutoffs   \n",
    "a = 1\n",
    "b = 0\n",
    "c = 2\n",
    "G_W, DelNodeSize, DelNodeDeg, DelEdge = Cutoff(G_W, a, b, c, link_weight, GetMinWeightCutOff = True, GetDegCutOff = True, GetNodeSize = True)\n",
    "\n",
    "# Remove zero degee nodes \n",
    "G_W = ZeroDegCutOff(G_W)\n",
    "\n",
    "print(\"Number of nodes in weigthed graph: \" + str(len(G_W.nodes())))\n",
    "print(\"Number of links in weighted graph: \" + str(len(G_W.edges())))\n",
    "\n",
    "stylized_network, config = nw.visualize(G_W)"
   ]
  },
  {
   "cell_type": "markdown",
   "id": "informal-latvia",
   "metadata": {},
   "source": [
    "### Unweighted graph"
   ]
  },
  {
   "cell_type": "code",
   "execution_count": 19,
   "id": "skilled-dancing",
   "metadata": {},
   "outputs": [
    {
     "name": "stdout",
     "output_type": "stream",
     "text": [
      "Number of nodes in unweigthed graph: 267\n",
      "Number of links in unweighted graph: 6884\n"
     ]
    }
   ],
   "source": [
    "G = UnweightedGraph(Connections)\n",
    "\n",
    "\n",
    "print(\"Number of nodes in unweigthed graph: \" + str(len(G.nodes())))\n",
    "print(\"Number of links in unweighted graph: \" + str(len(G.edges())))"
   ]
  },
  {
   "cell_type": "code",
   "execution_count": 20,
   "id": "disciplinary-suicide",
   "metadata": {},
   "outputs": [
    {
     "data": {
      "image/png": "[encoded data removed]",
      "text/plain": [
       "<Figure size 432x288 with 1 Axes>"
      ]
     },
     "metadata": {},
     "output_type": "display_data"
    }
   ],
   "source": [
    "# Plot degree distribution\n",
    "degreedist = [d for _,d in G.degree()]\n",
    "Plot(degreedist, \"Degree distributution of unweighted graph\", \"green\", 20)"
   ]
  },
  {
   "cell_type": "code",
   "execution_count": 21,
   "id": "rotary-processor",
   "metadata": {},
   "outputs": [
    {
     "name": "stdout",
     "output_type": "stream",
     "text": [
      "Number of nodes in unweigthed graph: 239\n",
      "Number of links in unweighted graph: 6548\n"
     ]
    }
   ],
   "source": [
    "# Remove nodes and edges with nodesize and edge weight cutoff rules from the weighted graph\n",
    "for e in DelEdge:\n",
    "    G.remove_edge(e[0], e[1])\n",
    "\n",
    "for n in DelNodeSize: \n",
    "    G.remove_node(n)\n",
    "    \n",
    "# Remove zero degree nodes\n",
    "G= ZeroDegCutOff(G)\n",
    "\n",
    "print(\"Number of nodes in unweigthed graph: \" + str(len(G.nodes())))\n",
    "print(\"Number of links in unweighted graph: \" + str(len(G.edges())))"
   ]
  },
  {
   "cell_type": "code",
   "execution_count": 22,
   "id": "close-marker",
   "metadata": {},
   "outputs": [
    {
     "data": {
      "image/png": "[encoded data removed]",
      "text/plain": [
       "<Figure size 432x288 with 1 Axes>"
      ]
     },
     "metadata": {},
     "output_type": "display_data"
    }
   ],
   "source": [
    "# Plot degree distribution\n",
    "degreedist = [d for _,d in G.degree()]\n",
    "Plot(degreedist, \"Degree distributution of unweighted graph\", \"green\", 20)"
   ]
  },
  {
   "cell_type": "markdown",
   "id": "vocal-university",
   "metadata": {},
   "source": [
    "### Partitioning unweighted graph with louvain"
   ]
  },
  {
   "cell_type": "code",
   "execution_count": 140,
   "id": "yellow-monitor",
   "metadata": {},
   "outputs": [
    {
     "data": {
      "text/plain": [
       "0.20706881591286413"
      ]
     },
     "execution_count": 140,
     "metadata": {},
     "output_type": "execute_result"
    }
   ],
   "source": [
    "# Louvain method \n",
    "LouvainCommunities = community_louvain.best_partition(G)\n",
    "\n",
    "# Add attribute to graph\n",
    "for key, val in LouvainCommunities.items(): \n",
    "    G.nodes[key]['LouvainPartition'] = val\n",
    "    G.nodes[key]['group'] = val\n",
    "\n",
    "#stylized_network, config = nw.visualize(G)\n",
    "\n",
    "# Modularity of louvain partition\n",
    "partitioning = ['LouvainPartition', (0, 1, 2, 3)]\n",
    "GraphModularity(G,partitioning)"
   ]
  },
  {
   "cell_type": "markdown",
   "id": "threaded-pillow",
   "metadata": {},
   "source": [
    "# Per season"
   ]
  },
  {
   "cell_type": "markdown",
   "id": "conventional-gateway",
   "metadata": {},
   "source": [
    "### Weighted graph"
   ]
  },
  {
   "cell_type": "code",
   "execution_count": 24,
   "id": "norman-kelly",
   "metadata": {},
   "outputs": [],
   "source": [
    "season = \"season2\""
   ]
  },
  {
   "cell_type": "code",
   "execution_count": 25,
   "id": "comfortable-newspaper",
   "metadata": {},
   "outputs": [],
   "source": [
    "data1 = data[data[\"season\"] == season]"
   ]
  },
  {
   "cell_type": "code",
   "execution_count": 26,
   "id": "yellow-nepal",
   "metadata": {},
   "outputs": [],
   "source": [
    "Connections1, NewCN1 = GetFullyConnectedSubgraps(data1, CN, n1, nh)\n",
    "\n",
    "G_W1, link_weight1 = WeightedGraph(data1, Connections1, NewCN1)"
   ]
  },
  {
   "cell_type": "code",
   "execution_count": 28,
   "id": "hungry-barbados",
   "metadata": {},
   "outputs": [],
   "source": [
    "nx.write_gpickle(G_W1, \"Gseason2.gpickle\")"
   ]
  },
  {
   "cell_type": "code",
   "execution_count": 27,
   "id": "genuine-associate",
   "metadata": {},
   "outputs": [
    {
     "data": {
      "image/png": "[encoded data removed]",
      "text/plain": [
       "<Figure size 288x288 with 1 Axes>"
      ]
     },
     "metadata": {
      "needs_background": "light"
     },
     "output_type": "display_data"
    }
   ],
   "source": [
    "stylized_network, config = nw.visualize(G_W1)"
   ]
  },
  {
   "cell_type": "markdown",
   "id": "supreme-forge",
   "metadata": {},
   "source": [
    "### Unweighted graph "
   ]
  },
  {
   "cell_type": "code",
   "execution_count": null,
   "id": "second-simpson",
   "metadata": {},
   "outputs": [],
   "source": []
  }
 ],
 "metadata": {
  "kernelspec": {
   "display_name": "Python 3",
   "language": "python",
   "name": "python3"
  },
  "language_info": {
   "codemirror_mode": {
    "name": "ipython",
    "version": 3
   },
   "file_extension": ".py",
   "mimetype": "text/x-python",
   "name": "python",
   "nbconvert_exporter": "python",
   "pygments_lexer": "ipython3",
   "version": "3.8.6"
  }
 },
 "nbformat": 4,
 "nbformat_minor": 5
}
