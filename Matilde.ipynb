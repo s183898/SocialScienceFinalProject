{
 "cells": [
  {
   "cell_type": "code",
   "execution_count": 180,
   "id": "persistent-protein",
   "metadata": {},
   "outputs": [],
   "source": [
    "import requests\n",
    "from bs4 import BeautifulSoup\n",
    "import json\n",
    "import re\n",
    "from nltk import word_tokenize\n",
    "import pandas as pd"
   ]
  },
  {
   "cell_type": "markdown",
   "id": "answering-danish",
   "metadata": {},
   "source": [
    "### Import list of names from json file:"
   ]
  },
  {
   "cell_type": "code",
   "execution_count": 4,
   "id": "atlantic-pencil",
   "metadata": {},
   "outputs": [],
   "source": [
    "CharacterNames = []\n",
    "with open('characters.json') as json_file:\n",
    "    data = json.load(json_file)\n",
    "    for p in data['characters']:\n",
    "        CharacterNames.append('characterName')"
   ]
  },
  {
   "cell_type": "markdown",
   "id": "fixed-appendix",
   "metadata": {},
   "source": [
    "### Get webpages"
   ]
  },
  {
   "cell_type": "code",
   "execution_count": 29,
   "id": "forced-chocolate",
   "metadata": {},
   "outputs": [],
   "source": [
    "base_url = 'https://gameofthrones.fandom.com/wiki/Stormborn'\n",
    "index = requests.get(base_url).text\n",
    "soup_index = BeautifulSoup(index, 'html.parser')\n",
    "# Find the links on the page\n",
    "dumps = [a['href'] for a in soup_index.find_all('a') if \n",
    "         a.has_attr('href')]"
   ]
  },
  {
   "cell_type": "markdown",
   "id": "understood-colleague",
   "metadata": {},
   "source": [
    "### Get documents"
   ]
  },
  {
   "cell_type": "code",
   "execution_count": 162,
   "id": "conditional-november",
   "metadata": {},
   "outputs": [],
   "source": [
    "url = 'https://gameofthrones.fandom.com/wiki/Stormborn'\n",
    "res = requests.get(url)\n",
    "html_page = res.content\n",
    "soup = BeautifulSoup(html_page, 'html.parser')\n",
    "text = soup.find_all(text=True)\n",
    "\n",
    "output = ''\n",
    "blacklist = [\n",
    "    '[document]',\n",
    "    'noscript',\n",
    "    'header',\n",
    "    'html',\n",
    "    'meta',\n",
    "    'head', \n",
    "    'input',\n",
    "    'script',\n",
    "    # there may be more elements you don't want, such as \"style\", etc.\n",
    "]\n",
    "\n",
    "for t in text:\n",
    "    if t.parent.name not in blacklist:\n",
    "        output += '{} '.format(t)"
   ]
  },
  {
   "cell_type": "markdown",
   "id": "known-transformation",
   "metadata": {},
   "source": [
    "### Accesss all captions"
   ]
  },
  {
   "cell_type": "code",
   "execution_count": 163,
   "id": "stainless-irish",
   "metadata": {},
   "outputs": [
    {
     "data": {
      "text/plain": [
       "['On Dragonstone',\n",
       " \"In King's Landing\",\n",
       " 'At Winterfell',\n",
       " 'In the Riverlands',\n",
       " 'In Oldtown',\n",
       " 'On the Narrow Sea']"
      ]
     },
     "execution_count": 163,
     "metadata": {},
     "output_type": "execute_result"
    }
   ],
   "source": [
    "AllH = soup.find_all(['h2', 'h3'])\n",
    "for header in AllH:\n",
    "    if header.span is not None: \n",
    "        header.span.unwrap()\n",
    "\n",
    "AllHeaders = [header.text for header in AllH]\n",
    "Pre = AllHeaders.index('Summary')\n",
    "Post = AllHeaders.index('Appearances')\n",
    "\n",
    "HeadlineName = AllHeaders[Pre+1:Post]\n",
    "HeadlineName"
   ]
  },
  {
   "cell_type": "markdown",
   "id": "alert-exemption",
   "metadata": {},
   "source": [
    "### Access all releveant text (including captions)"
   ]
  },
  {
   "cell_type": "code",
   "execution_count": 164,
   "id": "broadband-factor",
   "metadata": {},
   "outputs": [],
   "source": [
    "allText = soup.find_all(['p', 'h3'])\n",
    "for section in allText: \n",
    "    if section is not None:\n",
    "        if section.a is not None: \n",
    "            section.a.unwrap()\n",
    "        elif section.span is not None: \n",
    "            section.span.unwrap()\n",
    "            \n",
    "DragonStone = [t.text for t in allText]"
   ]
  },
  {
   "cell_type": "code",
   "execution_count": 172,
   "id": "limited-wrist",
   "metadata": {},
   "outputs": [
    {
     "data": {
      "text/plain": [
       "6"
      ]
     },
     "execution_count": 172,
     "metadata": {},
     "output_type": "execute_result"
    }
   ],
   "source": [
    "CaptionIndices = []\n",
    "for caption in HeadlineName: \n",
    "    CaptionIndices.append(DragonStone.index(caption))\n",
    "    \n",
    "CaptionIndices.append(-1)"
   ]
  },
  {
   "cell_type": "code",
   "execution_count": 183,
   "id": "suited-heavy",
   "metadata": {},
   "outputs": [
    {
     "name": "stdout",
     "output_type": "stream",
     "text": [
      "0\n",
      "1\n",
      "2\n",
      "3\n",
      "4\n",
      "5\n"
     ]
    }
   ],
   "source": [
    "SectionText = []\n",
    "for i in range(len(CaptionIndices)-1):\n",
    "    print(i)\n",
    "    SectionText.append(DragonStone[CaptionIndices[i]+1:CaptionIndices[i+1]])"
   ]
  },
  {
   "cell_type": "code",
   "execution_count": 196,
   "id": "recreational-howard",
   "metadata": {},
   "outputs": [
    {
     "data": {
      "text/html": [
       "<div>\n",
       "<style scoped>\n",
       "    .dataframe tbody tr th:only-of-type {\n",
       "        vertical-align: middle;\n",
       "    }\n",
       "\n",
       "    .dataframe tbody tr th {\n",
       "        vertical-align: top;\n",
       "    }\n",
       "\n",
       "    .dataframe thead th {\n",
       "        text-align: right;\n",
       "    }\n",
       "</style>\n",
       "<table border=\"1\" class=\"dataframe\">\n",
       "  <thead>\n",
       "    <tr style=\"text-align: right;\">\n",
       "      <th></th>\n",
       "      <th>caption</th>\n",
       "      <th>text</th>\n",
       "    </tr>\n",
       "  </thead>\n",
       "  <tbody>\n",
       "    <tr>\n",
       "      <th>0</th>\n",
       "      <td>On Dragonstone</td>\n",
       "      <td>[During a thunderstorm at Dragonstone, Tyrion ...</td>\n",
       "    </tr>\n",
       "    <tr>\n",
       "      <th>1</th>\n",
       "      <td>In King's Landing</td>\n",
       "      <td>[In the throne room of the Red Keep, Queen Cer...</td>\n",
       "    </tr>\n",
       "    <tr>\n",
       "      <th>2</th>\n",
       "      <td>At Winterfell</td>\n",
       "      <td>[At Winterfell, Jon Snow, Sansa Stark, and Dav...</td>\n",
       "    </tr>\n",
       "    <tr>\n",
       "      <th>3</th>\n",
       "      <td>In the Riverlands</td>\n",
       "      <td>[Arya Stark encounters Hot Pie at the Inn at t...</td>\n",
       "    </tr>\n",
       "    <tr>\n",
       "      <th>4</th>\n",
       "      <td>In Oldtown</td>\n",
       "      <td>[At the Citadel, Archmaester Ebrose and Samwel...</td>\n",
       "    </tr>\n",
       "    <tr>\n",
       "      <th>5</th>\n",
       "      <td>On the Narrow Sea</td>\n",
       "      <td>[Yara and Ellaria's ships are attacked by Euro...</td>\n",
       "    </tr>\n",
       "  </tbody>\n",
       "</table>\n",
       "</div>"
      ],
      "text/plain": [
       "             caption                                               text\n",
       "0     On Dragonstone  [During a thunderstorm at Dragonstone, Tyrion ...\n",
       "1  In King's Landing  [In the throne room of the Red Keep, Queen Cer...\n",
       "2      At Winterfell  [At Winterfell, Jon Snow, Sansa Stark, and Dav...\n",
       "3  In the Riverlands  [Arya Stark encounters Hot Pie at the Inn at t...\n",
       "4         In Oldtown  [At the Citadel, Archmaester Ebrose and Samwel...\n",
       "5  On the Narrow Sea  [Yara and Ellaria's ships are attacked by Euro..."
      ]
     },
     "execution_count": 196,
     "metadata": {},
     "output_type": "execute_result"
    }
   ],
   "source": [
    "df = pd.DataFrame(columns = [\"caption\", \"text\"])\n",
    "#data = SectionText, columns = HeadlineName\n",
    "df['caption'] = HeadlineName\n",
    "df['text'] = SectionText\n",
    "df"
   ]
  },
  {
   "cell_type": "code",
   "execution_count": null,
   "id": "annual-tours",
   "metadata": {},
   "outputs": [],
   "source": []
  }
 ],
 "metadata": {
  "kernelspec": {
   "display_name": "Python 3",
   "language": "python",
   "name": "python3"
  },
  "language_info": {
   "codemirror_mode": {
    "name": "ipython",
    "version": 3
   },
   "file_extension": ".py",
   "mimetype": "text/x-python",
   "name": "python",
   "nbconvert_exporter": "python",
   "pygments_lexer": "ipython3",
   "version": "3.8.6"
  }
 },
 "nbformat": 4,
 "nbformat_minor": 5
}
