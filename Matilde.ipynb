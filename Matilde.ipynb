{
 "cells": [
  {
   "cell_type": "code",
   "execution_count": 1,
   "id": "hired-birthday",
   "metadata": {},
   "outputs": [],
   "source": [
    "import requests\n",
    "from bs4 import BeautifulSoup\n",
    "import json\n",
    "import re\n",
    "from nltk import word_tokenize\n",
    "import pandas as pd\n",
    "from urllib.request import urlopen\n",
    "import requests"
   ]
  },
  {
   "cell_type": "markdown",
   "id": "historic-paint",
   "metadata": {},
   "source": [
    "### Import list of names from json file:"
   ]
  },
  {
   "cell_type": "code",
   "execution_count": 2,
   "id": "gentle-developer",
   "metadata": {},
   "outputs": [],
   "source": [
    "CharacterNames = []\n",
    "with open('characters.json') as json_file:\n",
    "    data = json.load(json_file)\n",
    "    for p in data['characters']:\n",
    "        CharacterNames.append('characterName')"
   ]
  },
  {
   "cell_type": "markdown",
   "id": "incomplete-crawford",
   "metadata": {},
   "source": [
    "### Get relevant paths"
   ]
  },
  {
   "cell_type": "code",
   "execution_count": 3,
   "id": "intimate-elephant",
   "metadata": {},
   "outputs": [
    {
     "data": {
      "text/plain": [
       "['/wiki/Winterfell_(episode)',\n",
       " '/wiki/A_Knight_of_the_Seven_Kingdoms',\n",
       " '/wiki/The_Long_Night',\n",
       " '/wiki/The_Last_of_the_Starks',\n",
       " '/wiki/The_Bells',\n",
       " '/wiki/The_Iron_Throne',\n",
       " '/wiki/Dragonstone_(episode)',\n",
       " '/wiki/Stormborn',\n",
       " '/wiki/The_Queen%27s_Justice',\n",
       " '/wiki/The_Spoils_of_War',\n",
       " '/wiki/Eastwatch',\n",
       " '/wiki/Beyond_the_Wall_(episode)',\n",
       " '/wiki/The_Dragon_and_the_Wolf',\n",
       " '/wiki/The_Red_Woman',\n",
       " '/wiki/Home',\n",
       " '/wiki/Oathbreaker',\n",
       " '/wiki/Book_of_the_Stranger',\n",
       " '/wiki/The_Door',\n",
       " '/wiki/Blood_of_My_Blood',\n",
       " '/wiki/The_Broken_Man',\n",
       " '/wiki/No_One',\n",
       " '/wiki/Battle_of_the_Bastards_(episode)',\n",
       " '/wiki/The_Winds_of_Winter']"
      ]
     },
     "execution_count": 3,
     "metadata": {},
     "output_type": "execute_result"
    }
   ],
   "source": [
    "def GetUrls(url):\n",
    "\n",
    "    req = requests.get(url)\n",
    "    soup = BeautifulSoup(req.text, \"html.parser\")\n",
    "    \n",
    "    AllLinks = []\n",
    "    for link in soup.find_all('a'):\n",
    "        AllLinks.append(link.get('href'))\n",
    "    \n",
    "    idx = AllLinks.index('/wiki/Season_8')\n",
    "    \n",
    "    AllLinks = AllLinks[idx:idx+26]\n",
    "    \n",
    "    indices = [AllLinks.index(\"/wiki/Season_\" +str(i)) for i in [6,7,8]]\n",
    "    for i in indices: \n",
    "        del(AllLinks[i])\n",
    "\n",
    "    return AllLinks\n",
    "    \n",
    "\n",
    "url = \"https://gameofthrones.fandom.com/wiki/\"\n",
    "AllUrls = GetUrls(url)\n",
    "AllUrls"
   ]
  },
  {
   "cell_type": "markdown",
   "id": "humanitarian-screen",
   "metadata": {},
   "source": [
    "### Get documents"
   ]
  },
  {
   "cell_type": "code",
   "execution_count": 4,
   "id": "ahead-roberts",
   "metadata": {},
   "outputs": [],
   "source": [
    "def GetDocuments(root, endpath):\n",
    "    url = root + endpath\n",
    "    res = requests.get(url)\n",
    "    html_page = res.content\n",
    "    soup = BeautifulSoup(html_page, 'html.parser')\n",
    "    text = soup.find_all(text=True)\n",
    "\n",
    "    output = ''\n",
    "    blacklist = [\n",
    "        '[document]',\n",
    "        'noscript',\n",
    "        'header',\n",
    "        'html',\n",
    "        'meta',\n",
    "        'head', \n",
    "        'input',\n",
    "        'script',\n",
    "        # there may be more elements you don't want, such as \"style\", etc.\n",
    "    ]\n",
    "\n",
    "    for t in text:\n",
    "        if t.parent.name not in blacklist:\n",
    "            output += '{} '.format(t)\n",
    "            \n",
    "    return soup, text, output"
   ]
  },
  {
   "cell_type": "markdown",
   "id": "dried-number",
   "metadata": {},
   "source": [
    "### Accesss all captions"
   ]
  },
  {
   "cell_type": "code",
   "execution_count": 5,
   "id": "amino-march",
   "metadata": {},
   "outputs": [],
   "source": [
    "def GetSectionName(soup):\n",
    "    AllH = soup.find_all(['h2', 'h3'])\n",
    "    for header in AllH:\n",
    "        if header.span is not None: \n",
    "            header.span.unwrap()\n",
    "\n",
    "    AllHeaders = [header.text for header in AllH]\n",
    "    Pre = AllHeaders.index('Summary')\n",
    "    Post = AllHeaders.index('Appearances')\n",
    "\n",
    "    HeadlineName = AllHeaders[Pre+1:Post]\n",
    "    return HeadlineName"
   ]
  },
  {
   "cell_type": "markdown",
   "id": "combined-allergy",
   "metadata": {},
   "source": [
    "### Access all releveant text (including captions)"
   ]
  },
  {
   "cell_type": "code",
   "execution_count": 16,
   "id": "declared-reggae",
   "metadata": {},
   "outputs": [],
   "source": [
    "def GetText(HeadlineNames):\n",
    "    Texts = soup.find_all(['p', 'h3'])\n",
    "    for section in Texts: \n",
    "        if section is not None:\n",
    "            if section.a is not None: \n",
    "                section.a.unwrap()\n",
    "            elif section.span is not None: \n",
    "                section.span.unwrap()\n",
    "            \n",
    "    Texts = [t.text for t in Texts]\n",
    "    \n",
    "    CaptionIndices = []\n",
    "    for caption in HeadlineNames: \n",
    "        CaptionIndices.append(Texts.index(caption))\n",
    "    \n",
    "    CaptionIndices.append(-1)\n",
    "    \n",
    "    SectionText = []\n",
    "    for i in range(len(CaptionIndices)-1):\n",
    "        print(i)\n",
    "        SectionText.append(Texts[CaptionIndices[i]+1:CaptionIndices[i+1]])\n",
    "    \n",
    "    return SectionText, Texts, CaptionIndices"
   ]
  },
  {
   "cell_type": "code",
   "execution_count": 21,
   "id": "egyptian-plaza",
   "metadata": {},
   "outputs": [
    {
     "name": "stdout",
     "output_type": "stream",
     "text": [
      "0\n",
      "1\n",
      "2\n"
     ]
    },
    {
     "data": {
      "text/plain": [
       "'At Last Hearth'"
      ]
     },
     "execution_count": 21,
     "metadata": {},
     "output_type": "execute_result"
    }
   ],
   "source": [
    "root = 'https://gameofthrones.fandom.com'\n",
    "endpath = '/wiki/Winterfell_(episode)'\n",
    "\n",
    "soup, text, output = GetDocuments(root, endpath)\n",
    "\n",
    "HeadlineNames = GetSectionName(soup)\n",
    "SectionText, Texts, CaptionIndices = GetText(HeadlineNames)\n",
    "Texts[30]"
   ]
  },
  {
   "cell_type": "code",
   "execution_count": 196,
   "id": "identical-twelve",
   "metadata": {},
   "outputs": [
    {
     "data": {
      "text/html": [
       "<div>\n",
       "<style scoped>\n",
       "    .dataframe tbody tr th:only-of-type {\n",
       "        vertical-align: middle;\n",
       "    }\n",
       "\n",
       "    .dataframe tbody tr th {\n",
       "        vertical-align: top;\n",
       "    }\n",
       "\n",
       "    .dataframe thead th {\n",
       "        text-align: right;\n",
       "    }\n",
       "</style>\n",
       "<table border=\"1\" class=\"dataframe\">\n",
       "  <thead>\n",
       "    <tr style=\"text-align: right;\">\n",
       "      <th></th>\n",
       "      <th>caption</th>\n",
       "      <th>text</th>\n",
       "    </tr>\n",
       "  </thead>\n",
       "  <tbody>\n",
       "    <tr>\n",
       "      <th>0</th>\n",
       "      <td>On Dragonstone</td>\n",
       "      <td>[During a thunderstorm at Dragonstone, Tyrion ...</td>\n",
       "    </tr>\n",
       "    <tr>\n",
       "      <th>1</th>\n",
       "      <td>In King's Landing</td>\n",
       "      <td>[In the throne room of the Red Keep, Queen Cer...</td>\n",
       "    </tr>\n",
       "    <tr>\n",
       "      <th>2</th>\n",
       "      <td>At Winterfell</td>\n",
       "      <td>[At Winterfell, Jon Snow, Sansa Stark, and Dav...</td>\n",
       "    </tr>\n",
       "    <tr>\n",
       "      <th>3</th>\n",
       "      <td>In the Riverlands</td>\n",
       "      <td>[Arya Stark encounters Hot Pie at the Inn at t...</td>\n",
       "    </tr>\n",
       "    <tr>\n",
       "      <th>4</th>\n",
       "      <td>In Oldtown</td>\n",
       "      <td>[At the Citadel, Archmaester Ebrose and Samwel...</td>\n",
       "    </tr>\n",
       "    <tr>\n",
       "      <th>5</th>\n",
       "      <td>On the Narrow Sea</td>\n",
       "      <td>[Yara and Ellaria's ships are attacked by Euro...</td>\n",
       "    </tr>\n",
       "  </tbody>\n",
       "</table>\n",
       "</div>"
      ],
      "text/plain": [
       "             caption                                               text\n",
       "0     On Dragonstone  [During a thunderstorm at Dragonstone, Tyrion ...\n",
       "1  In King's Landing  [In the throne room of the Red Keep, Queen Cer...\n",
       "2      At Winterfell  [At Winterfell, Jon Snow, Sansa Stark, and Dav...\n",
       "3  In the Riverlands  [Arya Stark encounters Hot Pie at the Inn at t...\n",
       "4         In Oldtown  [At the Citadel, Archmaester Ebrose and Samwel...\n",
       "5  On the Narrow Sea  [Yara and Ellaria's ships are attacked by Euro..."
      ]
     },
     "execution_count": 196,
     "metadata": {},
     "output_type": "execute_result"
    }
   ],
   "source": [
    "df = pd.DataFrame(columns = [\"caption\", \"text\"])\n",
    "#data = SectionText, columns = HeadlineName\n",
    "df['caption'] = HeadlineName\n",
    "df['text'] = SectionText\n",
    "df"
   ]
  },
  {
   "cell_type": "code",
   "execution_count": null,
   "id": "sunset-albany",
   "metadata": {},
   "outputs": [],
   "source": []
  }
 ],
 "metadata": {
  "kernelspec": {
   "display_name": "Python 3",
   "language": "python",
   "name": "python3"
  },
  "language_info": {
   "codemirror_mode": {
    "name": "ipython",
    "version": 3
   },
   "file_extension": ".py",
   "mimetype": "text/x-python",
   "name": "python",
   "nbconvert_exporter": "python",
   "pygments_lexer": "ipython3",
   "version": "3.8.6"
  }
 },
 "nbformat": 4,
 "nbformat_minor": 5
}
