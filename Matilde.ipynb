{
 "cells": [
  {
   "cell_type": "code",
   "execution_count": 1,
   "id": "potential-regulation",
   "metadata": {},
   "outputs": [],
   "source": [
    "import requests\n",
    "from bs4 import BeautifulSoup\n",
    "import json\n",
    "import re\n",
    "from nltk import word_tokenize\n",
    "import pandas as pd\n",
    "from urllib.request import urlopen\n",
    "import requests\n",
    "from bs4 import BeautifulSoup"
   ]
  },
  {
   "cell_type": "markdown",
   "id": "composite-gazette",
   "metadata": {},
   "source": [
    "### Import list of names from json file:"
   ]
  },
  {
   "cell_type": "code",
   "execution_count": 2,
   "id": "great-resolution",
   "metadata": {},
   "outputs": [],
   "source": [
    "CharacterNames = []\n",
    "with open('characters.json') as json_file:\n",
    "    data = json.load(json_file)\n",
    "    for p in data['characters']:\n",
    "        CharacterNames.append(p['characterName'])\n"
   ]
  },
  {
   "cell_type": "code",
   "execution_count": 3,
   "id": "brief-aging",
   "metadata": {},
   "outputs": [],
   "source": [
    "s1 = ['/wiki/Winter_Is_Coming', '/wiki/The_Kingsroad', '/wiki/Lord_Snow', \n",
    "      '/wiki/Cripples,_Bastards,_and_Broken_Things','/wiki/The_Wolf_and_the_Lion', '/wiki/A_Golden_Crown',\n",
    "      '/wiki/You_Win_or_You_Die', '/wiki/The_Pointy_End', '/wiki/Baelor',  '/wiki/Fire_and_Blood']\n",
    "\n",
    "\n",
    "s2 = ['/wiki/What_Is_Dead_May_Never_Die', '/wiki/The_Night_Lands', '/wiki/The_North_Remembers', \n",
    "     '/wiki/A_Man_Without_Honor', '/wiki/The_Old_Gods_and_the_New', '/wiki/The_Ghost_of_Harrenhal',\n",
    "      '/wiki/Garden_of_Bones_(episode)', '/wiki/Valar_Morghulis', '/wiki/Blackwater', '/wiki/The_Prince_of_Winterfell']\n",
    "\n",
    "s3 = ['/wiki/Valar_Dohaeris', '/wiki/Dark_Wings,_Dark_Words', '/wiki/Walk_of_Punishment_(episode)', \n",
    "     '/wiki/And_Now_His_Watch_Is_Ended','/wiki/Kissed_by_Fire', '/wiki/The_Climb', \n",
    "      '/wiki/The_Bear_and_the_Maiden_Fair_(episode)',\n",
    "     '/wiki/Second_Sons_(episode)', '/wiki/The_Rains_of_Castamere_(episode)', '/wiki/Mhysa']\n",
    "\n",
    "s4 = ['/wiki/Oathkeeper_(episode)', '/wiki/Breaker_of_Chains', '/wiki/The_Lion_and_the_Rose',\n",
    "      '/wiki/Two_Swords', '/wiki/Mockingbird','/wiki/The_Laws_of_Gods_and_Men','/wiki/First_of_His_Name',\n",
    "     '/wiki/The_Children','/wiki/The_Watchers_on_the_Wall','/wiki/The_Mountain_and_the_Viper']\n",
    "\n",
    "s5 = ['/wiki/Sons_of_the_Harpy_(episode)', '/wiki/High_Sparrow_(episode)',\n",
    "      '/wiki/The_House_of_Black_and_White', '/wiki/The_Wars_To_Come', \n",
    "     '/wiki/Mother%27s_Mercy', '/wiki/The_Dance_of_Dragons','/wiki/Hardhome_(episode)', \n",
    "      '/wiki/The_Gift', '/wiki/Unbowed,_Unbent,_Unbroken', '/wiki/Kill_the_Boy']\n"
   ]
  },
  {
   "cell_type": "markdown",
   "id": "opposite-transsexual",
   "metadata": {},
   "source": [
    "### Get relevant paths"
   ]
  },
  {
   "cell_type": "code",
   "execution_count": 4,
   "id": "favorite-graphic",
   "metadata": {},
   "outputs": [],
   "source": [
    "def GetUrls(url):\n",
    "\n",
    "    req = requests.get(url)\n",
    "    soup = BeautifulSoup(req.text, \"html.parser\")\n",
    "    \n",
    "    AllLinks = []\n",
    "    for link in soup.find_all('a'):\n",
    "        AllLinks.append(link.get('href'))\n",
    "    \n",
    "    idx = AllLinks.index('/wiki/Season_8')\n",
    "    \n",
    "    AllLinks = AllLinks[idx:idx+26]\n",
    "    \n",
    "    indices = [AllLinks.index(\"/wiki/Season_\" +str(i)) for i in [8, 7, 6]]\n",
    "    \n",
    "    SeaLen = [indices[i+1]-indices[i]-1 for i in range(2)] + [len(AllLinks)-indices[2]-1]\n",
    "    Seasons = SeaLen[0]*['Season_8'] + SeaLen[1]*['Season_7'] + SeaLen[2]*['Season_6']\n",
    "\n",
    "    j = 0\n",
    "    for i in indices: \n",
    "        del(AllLinks[i-j])\n",
    "        j+=1\n",
    "\n",
    "    return AllLinks, Seasons\n",
    "\n",
    "def SeasonList(paths, season):\n",
    "    \n",
    "    return season*len(paths)\n",
    "    \n",
    "    "
   ]
  },
  {
   "cell_type": "markdown",
   "id": "interpreted-holmes",
   "metadata": {},
   "source": [
    "### Get documents"
   ]
  },
  {
   "cell_type": "code",
   "execution_count": 5,
   "id": "bacterial-purple",
   "metadata": {},
   "outputs": [],
   "source": [
    "def GetDocuments(root, endpath):\n",
    "    url = root + endpath\n",
    "    res = requests.get(url)\n",
    "    html_page = res.content\n",
    "    soup = BeautifulSoup(html_page, 'html.parser')\n",
    "    text = soup.find_all(text=True)\n",
    "\n",
    "    output = ''\n",
    "    blacklist = [\n",
    "        '[document]',\n",
    "        'noscript',\n",
    "        'header',\n",
    "        'html',\n",
    "        'meta',\n",
    "        'head', \n",
    "        'input',\n",
    "        'script',\n",
    "        # there may be more elements you don't want, such as \"style\", etc.\n",
    "    ]\n",
    "\n",
    "    for t in text:\n",
    "        if t.parent.name not in blacklist:\n",
    "            output += '{} '.format(t)\n",
    "            \n",
    "    return soup, text, output"
   ]
  },
  {
   "cell_type": "markdown",
   "id": "affiliated-webster",
   "metadata": {},
   "source": [
    "### Accesss all captions"
   ]
  },
  {
   "cell_type": "code",
   "execution_count": 6,
   "id": "global-illinois",
   "metadata": {},
   "outputs": [],
   "source": [
    "def GetSectionName(soup):\n",
    "\n",
    "    AllH = soup.find_all(['h2', 'h3'])\n",
    "    for header in AllH:\n",
    "        if header.span is not None: \n",
    "            header.span.unwrap()\n",
    "\n",
    "    AllHeaders = [header.text for header in AllH]\n",
    "    if 'Summary' in AllHeaders:\n",
    "        Pre = AllHeaders.index('Summary')\n",
    "    elif 'Synopsis' in AllHeaders: \n",
    "        Pre = AllHeaders.index('Synopsis')\n",
    "    else: \n",
    "        print(\"something went wrong\")\n",
    "        return \n",
    "        \n",
    "    Post = AllHeaders.index('Appearances')\n",
    "\n",
    "    HeadlineName = AllHeaders[Pre+1:Post]\n",
    "    return HeadlineName"
   ]
  },
  {
   "cell_type": "markdown",
   "id": "referenced-singing",
   "metadata": {},
   "source": [
    "### Access all releveant text (including captions)"
   ]
  },
  {
   "cell_type": "code",
   "execution_count": 7,
   "id": "loving-pollution",
   "metadata": {},
   "outputs": [],
   "source": [
    "def GetText(HeadlineNames):\n",
    "    HeadlineNames += ['Appearances']\n",
    "\n",
    "    # Unwrap text\n",
    "    Texts = soup.find_all(['p','h2', 'h3'])\n",
    "    for section in Texts: \n",
    "        if section is not None:\n",
    "            if section.a is not None: \n",
    "                section.a.unwrap()\n",
    "            elif section.span is not None: \n",
    "                section.span.unwrap()\n",
    "\n",
    "    #S tore text in list\n",
    "    Texts = [t.text for t in Texts]\n",
    "\n",
    "    # Find section indices in Texts\n",
    "    CaptionIndices = []\n",
    "    for caption in HeadlineNames:         \n",
    "        CaptionIndices.append(Texts.index(caption))\n",
    "\n",
    "    # Store texts according to section\n",
    "    SectionText = []\n",
    "    for i in range(len(CaptionIndices)-1):\n",
    "        SectionText.append(Texts[CaptionIndices[i]+1:CaptionIndices[i+1]])\n",
    "\n",
    "\n",
    "    return SectionText\n",
    "\n"
   ]
  },
  {
   "cell_type": "code",
   "execution_count": 8,
   "id": "widespread-blond",
   "metadata": {},
   "outputs": [
    {
     "name": "stdout",
     "output_type": "stream",
     "text": [
      "/wiki/Winter_Is_Coming\n",
      "/wiki/The_Kingsroad\n",
      "/wiki/Lord_Snow\n",
      "/wiki/Cripples,_Bastards,_and_Broken_Things\n",
      "/wiki/The_Wolf_and_the_Lion\n",
      "/wiki/A_Golden_Crown\n",
      "/wiki/You_Win_or_You_Die\n",
      "/wiki/The_Pointy_End\n",
      "/wiki/Baelor\n",
      "/wiki/Fire_and_Blood\n",
      "/wiki/What_Is_Dead_May_Never_Die\n",
      "/wiki/The_Night_Lands\n",
      "/wiki/The_North_Remembers\n",
      "/wiki/A_Man_Without_Honor\n",
      "/wiki/The_Old_Gods_and_the_New\n",
      "/wiki/The_Ghost_of_Harrenhal\n",
      "/wiki/Garden_of_Bones_(episode)\n",
      "/wiki/Valar_Morghulis\n",
      "/wiki/Blackwater\n",
      "/wiki/The_Prince_of_Winterfell\n",
      "/wiki/Valar_Dohaeris\n",
      "/wiki/Dark_Wings,_Dark_Words\n",
      "/wiki/Walk_of_Punishment_(episode)\n",
      "/wiki/And_Now_His_Watch_Is_Ended\n",
      "/wiki/Kissed_by_Fire\n",
      "/wiki/The_Climb\n",
      "/wiki/The_Bear_and_the_Maiden_Fair_(episode)\n",
      "/wiki/Second_Sons_(episode)\n",
      "/wiki/The_Rains_of_Castamere_(episode)\n",
      "/wiki/Mhysa\n",
      "/wiki/Oathkeeper_(episode)\n",
      "/wiki/Breaker_of_Chains\n",
      "/wiki/The_Lion_and_the_Rose\n",
      "/wiki/Two_Swords\n",
      "/wiki/Mockingbird\n",
      "/wiki/The_Laws_of_Gods_and_Men\n",
      "/wiki/First_of_His_Name\n",
      "/wiki/The_Children\n",
      "/wiki/The_Watchers_on_the_Wall\n",
      "/wiki/The_Mountain_and_the_Viper\n",
      "/wiki/Sons_of_the_Harpy_(episode)\n",
      "/wiki/High_Sparrow_(episode)\n",
      "/wiki/The_House_of_Black_and_White\n",
      "/wiki/The_Wars_To_Come\n",
      "/wiki/Mother%27s_Mercy\n",
      "/wiki/The_Dance_of_Dragons\n",
      "/wiki/Hardhome_(episode)\n",
      "/wiki/The_Gift\n",
      "/wiki/Unbowed,_Unbent,_Unbroken\n",
      "/wiki/Kill_the_Boy\n",
      "/wiki/Winterfell_(episode)\n",
      "/wiki/A_Knight_of_the_Seven_Kingdoms\n",
      "/wiki/The_Long_Night\n",
      "/wiki/The_Last_of_the_Starks\n",
      "/wiki/The_Bells\n",
      "/wiki/The_Iron_Throne\n",
      "/wiki/Dragonstone_(episode)\n",
      "/wiki/Stormborn\n",
      "/wiki/The_Queen%27s_Justice\n",
      "/wiki/The_Spoils_of_War\n",
      "/wiki/Eastwatch\n",
      "/wiki/Beyond_the_Wall_(episode)\n",
      "/wiki/The_Dragon_and_the_Wolf\n",
      "/wiki/The_Red_Woman\n",
      "/wiki/Home\n",
      "/wiki/Oathbreaker\n",
      "/wiki/Book_of_the_Stranger\n",
      "/wiki/The_Door\n",
      "/wiki/Blood_of_My_Blood\n",
      "/wiki/The_Broken_Man\n",
      "/wiki/No_One\n",
      "/wiki/Battle_of_the_Bastards_(episode)\n",
      "/wiki/The_Winds_of_Winter\n"
     ]
    }
   ],
   "source": [
    "#Initialise dataframe\n",
    "df = pd.DataFrame(columns = [\"season\", \"caption\", \"text\"])\n",
    "\n",
    "# Get all urls\n",
    "url = \"https://gameofthrones.fandom.com/wiki/\"\n",
    "EndAllUrls, Seasons = GetUrls(url)\n",
    "\n",
    "#Add season 1 through 5\n",
    "EndAllUrls = s1 +s2 + s3 + s4 + s5 + EndAllUrls \n",
    "s = []\n",
    "for i,j in enumerate([s1, s2, s3, s4, s5]):\n",
    "    s += SeasonList(j,['season' + str(i)])\n",
    "Seasons = s + Seasons\n",
    "\n",
    "\n",
    "root = 'https://gameofthrones.fandom.com'\n",
    "\n",
    "AllCaptions = []\n",
    "AllTexts = []\n",
    "AllSeasons = []\n",
    "for endpath, season in zip(EndAllUrls, Seasons):\n",
    "    \n",
    "    # Webscrabe\n",
    "    print(endpath)\n",
    "    soup, text, output = GetDocuments(root, endpath)\n",
    "\n",
    "    # Get section names\n",
    "    Captions = GetSectionName(soup)\n",
    "\n",
    "    # Get texts\n",
    "    SectionText = GetText(Captions)\n",
    "    \n",
    "    AllCaptions = AllCaptions + Captions[:-1]\n",
    "    AllTexts = AllTexts + SectionText\n",
    "    AllSeasons = AllSeasons + [season] * len(Captions[:-1])\n",
    "    \n",
    "    \n",
    "# Store in dataframe\n",
    "df['caption'] = AllCaptions\n",
    "df['text'] = AllTexts\n",
    "df['season'] = AllSeasons\n"
   ]
  },
  {
   "cell_type": "code",
   "execution_count": 13,
   "id": "dental-luxembourg",
   "metadata": {},
   "outputs": [],
   "source": [
    "df.to_csv('GOT.csv')"
   ]
  },
  {
   "cell_type": "code",
   "execution_count": 15,
   "id": "middle-spring",
   "metadata": {},
   "outputs": [
    {
     "data": {
      "text/plain": [
       "'[\"Three rangers of the Night\\'s Watch: Ser Waymar Royce, Will, and Gared depart from the Wall to investigate reports of wildlings in the Haunted Forest which lies to the north, Beyond the Wall. Will, the best scout in the group, discovers a number of wildling corpses dismembered and arranged in a strange, ritualistic fashion on the ground. He also finds a dead wildling girl pinned to a tree.\\\\n\", \\'Wight of wildling girl.\\', \"He reports back to the others. Ser Waymar overrides the older Gared\\'s advice that they return to Castle Black to report the situation to Lord Commander of the Night\\'s Watch Jeor Mormont. He instead insists on seeing the corpses for himself to determine what killed them. When they reach the site, the bodies have disappeared. Will scouts around for clues, but Gared finds a bloody piece of clothing buried under the snow. Further investigations are curtailed when a tall, humanoid figure with glowing blue eyes, a White Walker, arrives and kills Ser Waymar with ease. Gared attempts to escape but is caught and killed. Will, in abject horror, sees the dead wildling girl from earlier who is now walking with blue eyes, and also witnesses Gared\\'s death, with the White Walker tossing his severed head at Will\\'s feet.\\\\n\"]'"
      ]
     },
     "execution_count": 15,
     "metadata": {},
     "output_type": "execute_result"
    }
   ],
   "source": [
    "pd.read_csv('GOT.csv')['text'][0]"
   ]
  },
  {
   "cell_type": "raw",
   "id": "infinite-exploration",
   "metadata": {},
   "source": [
    "type(AllTexts[0])"
   ]
  },
  {
   "cell_type": "code",
   "execution_count": null,
   "id": "chronic-cache",
   "metadata": {},
   "outputs": [],
   "source": []
  },
  {
   "cell_type": "code",
   "execution_count": null,
   "id": "loose-polyester",
   "metadata": {},
   "outputs": [],
   "source": []
  }
 ],
 "metadata": {
  "kernelspec": {
   "display_name": "Python 3",
   "language": "python",
   "name": "python3"
  },
  "language_info": {
   "codemirror_mode": {
    "name": "ipython",
    "version": 3
   },
   "file_extension": ".py",
   "mimetype": "text/x-python",
   "name": "python",
   "nbconvert_exporter": "python",
   "pygments_lexer": "ipython3",
   "version": "3.8.6"
  }
 },
 "nbformat": 4,
 "nbformat_minor": 5
}
