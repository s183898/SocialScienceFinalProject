{
 "cells": [
  {
   "cell_type": "code",
   "execution_count": 42,
   "id": "according-think",
   "metadata": {},
   "outputs": [],
   "source": [
    "import requests\n",
    "from bs4 import BeautifulSoup\n",
    "\n",
    "\n",
    "base_url = 'https://gameofthrones.fandom.com/wiki/Stormborn'\n",
    "index = requests.get(base_url).text\n",
    "soup_index = BeautifulSoup(index, 'html.parser')\n",
    "# Find the links on the page\n",
    "dumps = [a['href'] for a in soup_index.find_all('a') if \n",
    "         a.has_attr('href')]\n"
   ]
  },
  {
   "cell_type": "code",
   "execution_count": null,
   "id": "pharmaceutical-instrument",
   "metadata": {},
   "outputs": [],
   "source": [
    "import json\n",
    "with open('characters.json') as json_file:\n",
    "    data = json.load(json_file)\n",
    "    for p in data['characters']:\n",
    "        print('Name: ' + p['characterName'])\n",
    "        print('')"
   ]
  },
  {
   "cell_type": "code",
   "execution_count": 38,
   "id": "aggressive-evanescence",
   "metadata": {},
   "outputs": [
    {
     "data": {
      "text/plain": [
       "{'characterName': 'Aerys II Targaryen',\n",
       " 'houseName': 'Targaryen',\n",
       " 'characterImageThumb': 'https://images-na.ssl-images-amazon.com/images/M/MV5BMWQzOWViN2ItNDZhOS00MmZlLTkxZTYtZDg5NGUwMGRmYWZjL2ltYWdlL2ltYWdlXkEyXkFqcGdeQXVyMjk3NTUyOTc@._V1._SX100_SY140_.jpg',\n",
       " 'characterImageFull': 'https://images-na.ssl-images-amazon.com/images/M/MV5BMWQzOWViN2ItNDZhOS00MmZlLTkxZTYtZDg5NGUwMGRmYWZjL2ltYWdlL2ltYWdlXkEyXkFqcGdeQXVyMjk3NTUyOTc@._V1_.jpg',\n",
       " 'characterLink': '/character/ch0541362/',\n",
       " 'actorName': 'David Rintoul',\n",
       " 'actorLink': '/name/nm0727778/',\n",
       " 'nickname': 'The Mad King',\n",
       " 'royal': True,\n",
       " 'killed': ['Brandon Stark', 'Rickard Stark'],\n",
       " 'servedBy': ['Arthur Dayne', 'Jaime Lannister'],\n",
       " 'parentOf': ['Daenerys Targaryen', 'Rhaegar Targaryen', 'Viserys Targaryen'],\n",
       " 'siblings': ['Rhaella Targaryen'],\n",
       " 'marriedEngaged': ['Rhaella Targaryen'],\n",
       " 'killedBy': ['Jaime Lannister']}"
      ]
     },
     "execution_count": 38,
     "metadata": {},
     "output_type": "execute_result"
    }
   ],
   "source": [
    "CharacterDf = pd.read_json(r'characters.json')\n",
    "CharacterDf.characters[3]"
   ]
  },
  {
   "cell_type": "code",
   "execution_count": null,
   "id": "dangerous-kenya",
   "metadata": {},
   "outputs": [],
   "source": []
  }
 ],
 "metadata": {
  "kernelspec": {
   "display_name": "Python 3",
   "language": "python",
   "name": "python3"
  },
  "language_info": {
   "codemirror_mode": {
    "name": "ipython",
    "version": 3
   },
   "file_extension": ".py",
   "mimetype": "text/x-python",
   "name": "python",
   "nbconvert_exporter": "python",
   "pygments_lexer": "ipython3",
   "version": "3.8.6"
  }
 },
 "nbformat": 4,
 "nbformat_minor": 5
}
