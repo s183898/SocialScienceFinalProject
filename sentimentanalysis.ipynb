{
 "cells": [
  {
   "cell_type": "markdown",
   "id": "114b6529-f9db-4d21-8731-4506beed7e09",
   "metadata": {},
   "source": [
    "# Sentiment Analysis of Game of Thrones wiki - Fandom"
   ]
  },
  {
   "cell_type": "markdown",
   "id": "d27c968f-186b-4228-ab39-5381f4eca983",
   "metadata": {},
   "source": [
    "#### Chosen characters for sentiment analysis:\n",
    " - Cersei Lannister\n",
    " - Tyrion Lannister\n",
    " - Jon Snow\n",
    " - Daenerys Tagaryen\n",
    " - Arya Stark\n",
    "\n",
    "Since there are 389 characters total, there would be too many to analyse and a lot of them are insignificant for this analysis. Thus, we have chosen to conduct sentiment analysis on the 5 characters mentioned above. These were chosen due to their longevity in the series and thus we will be able to conduct a more in-depth analysis. Thus, we will be able to see each character stories throughout the series and what happens to them.  \n",
    "\n",
    "Additionally we will be able to see if characters is positive/negative/neutral in language, assuming that this will be able to help us see if their stories and actions are negative (war, loosing people, etc.) or positive (finding love, \"winning\", etc.)."
   ]
  },
  {
   "cell_type": "code",
   "execution_count": 1,
   "id": "f89065ab-4b81-4ca8-b3a9-c575f30130f9",
   "metadata": {},
   "outputs": [],
   "source": [
    "# Importin libraries to get the necessary data (character descriptions from the fandom page)\n",
    "import pandas as pd\n",
    "import requests\n",
    "from bs4 import BeautifulSoup\n",
    "import re\n",
    "from nltk.sentiment.vader import SentimentIntensityAnalyzer\n",
    "from nltk import word_tokenize\n",
    "from urllib.request import urlopen\n",
    "from nltk.corpus import stopwords\n",
    "import json\n",
    "import nltk\n",
    "import numpy as np \n",
    "from nltk.classify import SklearnClassifier\n",
    "from sklearn.model_selection import train_test_split\n",
    "from wordcloud import WordCloud, STOPWORDS\n",
    "import matplotlib.pyplot as plt\n",
    "%matplotlib inline"
   ]
  },
  {
   "cell_type": "code",
   "execution_count": 2,
   "id": "db4382af-7fa1-4c55-85d1-2c2708f2ac5e",
   "metadata": {},
   "outputs": [],
   "source": [
    "sentiment = SentimentIntensityAnalyzer()"
   ]
  },
  {
   "cell_type": "code",
   "execution_count": 3,
   "id": "dd4b7d47-6da0-41fb-b623-a560207e78cf",
   "metadata": {},
   "outputs": [],
   "source": [
    "stop_words = stopwords.words('english')\n",
    "stop_words.remove('not')\n",
    "stop_words.extend(['tells', 'asks', 'however', 'though', 'also', 'later', 'nt', 'say', 'hound', 'says'])\n",
    "stop_words = list(stop_words)"
   ]
  },
  {
   "cell_type": "code",
   "execution_count": 4,
   "id": "748583ba-de33-4588-9aa9-4486446da658",
   "metadata": {},
   "outputs": [],
   "source": [
    "CharacterNames = []\n",
    "with open('characters.json') as json_file:\n",
    "    data = json.load(json_file)\n",
    "    for p in data['characters']:\n",
    "        CharacterNames.append(p['characterName'])\n",
    "CharacterNames = ' '.join(CharacterNames)\n",
    "CharacterNames = CharacterNames.split()\n",
    "CharacterNames = [item.lower() for item in CharacterNames]"
   ]
  },
  {
   "cell_type": "code",
   "execution_count": 5,
   "id": "abf0dab1-2b7c-46b2-bfe2-8bd341d17532",
   "metadata": {},
   "outputs": [],
   "source": [
    "FamilyMembers = ['father', 'mother', 'nephew', 'cousin', 'wife', 'brother', 'sister', 'niece', 'son', 'daughter', \n",
    "                'surname', 'grandfather', 'grandmother', 'men', 'women', 'brothers', 'daughters', 'children', 'child']"
   ]
  },
  {
   "cell_type": "code",
   "execution_count": 6,
   "id": "cf381d99-0b47-4d68-b159-60f1e8380ec1",
   "metadata": {},
   "outputs": [],
   "source": [
    "characters = ['Jon Snow', 'Cersei Lannister', 'Tyrion Lannister', 'Daenerys Targaryen', 'Arya Stark']"
   ]
  },
  {
   "cell_type": "markdown",
   "id": "0cbebb0e-c665-4b24-82e1-56d4c7e6b5c4",
   "metadata": {},
   "source": [
    "## Functions to obtain and clean data"
   ]
  },
  {
   "cell_type": "code",
   "execution_count": 7,
   "id": "0db53286-4132-4bd6-8bdf-c1937e6ccc12",
   "metadata": {},
   "outputs": [],
   "source": [
    "def clean_data(text, FamilyMembers, CharacterNames, stop_words):\n",
    "    digits = '[0-9]'\n",
    "    symbols = '[!#$%&()*+-./:;<=>?@[\\]^_`{|}~\\n]'\n",
    "    \n",
    "    doc = text\n",
    "    # remove digits\n",
    "    doc = [re.sub(digits, '', i) for i in doc]\n",
    "    # remove symbols\n",
    "    doc = [re.sub(symbols, '', i) for i in doc]\n",
    "    # remove single characters\n",
    "    doc = [re.sub('\\\\b[^(aiouvAIOUV)]{1} \\\\b', ' ', i) for i in doc]\n",
    "    # remove links \n",
    "    doc = [re.sub(r'http\\S+', '', i) for i in doc]\n",
    "    # remove punctuation\n",
    "    doc = [re.sub(r'[^\\w\\s]', '', i) for i in doc]\n",
    "    # remove html syntax (\\t and \\n)\n",
    "    doc = [re.sub(r'[\\t\\n\\r]', '', i) for i in doc]\n",
    "    # remove white spaces\n",
    "    doc = [re.sub('(?<=\\n)\\s+\\n', '', i) for i in doc]\n",
    "    # stopwords, family member, character names\n",
    "    doc = [w for w in doc if not w in stop_words]\n",
    "    doc = [w for w in doc if not w in FamilyMembers]\n",
    "    doc = [w for w in doc if not w in CharacterNames]\n",
    "\n",
    "    return doc"
   ]
  },
  {
   "cell_type": "markdown",
   "id": "bc639687-84d3-4078-acfa-f9a42a84ad63",
   "metadata": {},
   "source": [
    "### Obtaining relevant text for each character"
   ]
  },
  {
   "cell_type": "code",
   "execution_count": 8,
   "id": "8158026c-1596-4ec0-8297-04d780801de7",
   "metadata": {},
   "outputs": [],
   "source": [
    "# Obtaining character description for the 5 chosen characters\n",
    "\n",
    "def CharDescription(root, endpath):\n",
    "    path = root+endpath\n",
    "    req = requests.get(path)\n",
    "    html_page = req.content\n",
    "    soup = BeautifulSoup(html_page, 'html.parser')\n",
    "    text = soup.find_all(text=True)\n",
    "\n",
    "    output = ''\n",
    "    blacklist = [\n",
    "        '[document]',\n",
    "        'noscript',\n",
    "        'header',\n",
    "        'html',\n",
    "        'meta',\n",
    "        'head', \n",
    "        'input',\n",
    "        'script',\n",
    "    # there may be more elements you don't want, such as \"style\", etc.\n",
    "    ]\n",
    "    \n",
    "    for words in text:\n",
    "        if words.parent.name not in blacklist:\n",
    "            output += '{} '.format(words) \n",
    "\n",
    "    return soup, text, output\n",
    "            "
   ]
  },
  {
   "cell_type": "code",
   "execution_count": 9,
   "id": "dba970b2-4725-435f-8b96-3b0f1e9227ca",
   "metadata": {},
   "outputs": [],
   "source": [
    "def GetSectionName(soup):\n",
    "\n",
    "    AllH = soup.find_all(['h2', 'h3'])\n",
    "    for header in AllH:\n",
    "        if header.span is not None: \n",
    "            header.span.unwrap()\n",
    "\n",
    "    AllHeaders = [header.text for header in AllH]\n",
    "    if 'Biography' in AllHeaders:\n",
    "        Pre = AllHeaders.index('Biography')\n",
    "    elif 'Personality' in AllHeaders: \n",
    "        Post = AllHeaders.index('Personality')\n",
    "    else: \n",
    "        print(\"something went wrong\")\n",
    "        return\n",
    "    Post = AllHeaders.index('Appearances')\n",
    "\n",
    "    HeadlineName = AllHeaders[Pre+1:Post]\n",
    "    return HeadlineName"
   ]
  },
  {
   "cell_type": "code",
   "execution_count": 10,
   "id": "c7a57c06-4ec4-4f56-b1d0-9aaea6405cbe",
   "metadata": {},
   "outputs": [],
   "source": [
    "def GetText(HeadlineNames, soup):\n",
    "    HeadlineNames += ['Appearances']\n",
    "\n",
    "    # Unwrap text\n",
    "    Texts = soup.find_all(['p','h2', 'h3'])\n",
    "    for section in Texts: \n",
    "        if section is not None:\n",
    "            if section.a is not None: \n",
    "                section.a.unwrap()\n",
    "            elif section.span is not None: \n",
    "                section.span.unwrap()\n",
    "\n",
    "    #S tore text in list\n",
    "    Texts = [t.text for t in Texts]\n",
    "\n",
    "    # Find section indices in Texts\n",
    "    CaptionIndices = []\n",
    "    for caption in HeadlineNames:         \n",
    "        CaptionIndices.append(Texts.index(caption))\n",
    "\n",
    "    # Store texts according to section\n",
    "    SectionText = []\n",
    "    for i in range(len(CaptionIndices)-1):\n",
    "        SectionText.append(Texts[CaptionIndices[i]+1:CaptionIndices[i+1]])\n",
    "\n",
    "\n",
    "    return SectionText"
   ]
  },
  {
   "cell_type": "code",
   "execution_count": 11,
   "id": "ad909ad5-1c25-4630-aef4-5ffc3fb6fc9a",
   "metadata": {},
   "outputs": [],
   "source": [
    "# Endpaths of the chosen characters\n",
    "\n",
    "char_wiki = ['/wiki/Jon_Snow',\n",
    "             '/wiki/Cersei_Lannister',\n",
    "             '/wiki/Tyrion_Lannister',\n",
    "             '/wiki/Daenerys_Targaryen',\n",
    "             '/wiki/Arya_Stark']"
   ]
  },
  {
   "cell_type": "code",
   "execution_count": 12,
   "id": "4b1c68b3-5976-4f85-9cd9-47719962a8d3",
   "metadata": {},
   "outputs": [],
   "source": [
    "root = 'https://gameofthrones.fandom.com'"
   ]
  },
  {
   "cell_type": "markdown",
   "id": "01459857-46bd-4258-af53-c98db5ee40bd",
   "metadata": {},
   "source": [
    "### Jon Snow"
   ]
  },
  {
   "cell_type": "code",
   "execution_count": 13,
   "id": "72d60412-35c7-46a1-a2fc-87aeca1bfbc1",
   "metadata": {},
   "outputs": [],
   "source": [
    "soup_js, text_js, output_js = CharDescription(root, char_wiki[0])\n",
    "head_js = GetSectionName(soup_js)\n",
    "js_desc = GetText(head_js, soup_js)\n",
    "js_list = [j for i in js_desc for j in i]"
   ]
  },
  {
   "cell_type": "code",
   "execution_count": 14,
   "id": "84afcb91-cad4-486f-96d6-3f9cd8668828",
   "metadata": {},
   "outputs": [],
   "source": [
    "JS = ' '.join(js_list)\n",
    "JS = JS.strip()\n",
    "JS = word_tokenize(JS.lower())"
   ]
  },
  {
   "cell_type": "code",
   "execution_count": 15,
   "id": "a96ccb68-6d3a-4b83-af22-99e7799996e4",
   "metadata": {},
   "outputs": [],
   "source": [
    "jon = clean_data(JS, CharacterNames, FamilyMembers, stop_words)"
   ]
  },
  {
   "cell_type": "code",
   "execution_count": 16,
   "id": "ab092e85-ff74-4bb9-9159-b12e754c73ee",
   "metadata": {},
   "outputs": [],
   "source": [
    "jon = [x for x in jon if len(x.strip()) > 0]"
   ]
  },
  {
   "cell_type": "code",
   "execution_count": 17,
   "id": "2717b01d-bf96-4fba-bf19-bbe45b808831",
   "metadata": {},
   "outputs": [
    {
     "name": "stdout",
     "output_type": "stream",
     "text": [
      "2668\n"
     ]
    }
   ],
   "source": [
    "# Unique vocabulary for Jon Snow\n",
    "print(len(set(jon)))"
   ]
  },
  {
   "cell_type": "code",
   "execution_count": 18,
   "id": "0efd2fd9-b1a5-4646-9de7-61e4a6bea1ec",
   "metadata": {},
   "outputs": [],
   "source": [
    "text_js = nltk.Text(jon)"
   ]
  },
  {
   "cell_type": "code",
   "execution_count": 19,
   "id": "7939b340-0cb1-4b19-b8cb-4c99ab59971e",
   "metadata": {},
   "outputs": [
    {
     "data": {
      "text/plain": [
       "0.3820707432335672"
      ]
     },
     "execution_count": 19,
     "metadata": {},
     "output_type": "execute_result"
    }
   ],
   "source": [
    "# Lexical richness\n",
    "len(set(text_js)) / len(text_js)"
   ]
  },
  {
   "cell_type": "code",
   "execution_count": 20,
   "id": "80c1286d-093a-4133-856f-86ccc90e9b8a",
   "metadata": {},
   "outputs": [
    {
     "name": "stdout",
     "output_type": "stream",
     "text": [
      "seven kingdoms; iron throne; beyond wall; bend knee; free folk; mole\n",
      "town; bids farewell; army dead; heart tree; punished crimes; runt\n",
      "litter; atop wall; valyrian steel; new recruits; shadow tower; tower\n",
      "joy; years ago; bent knee; fist first; tries persuade\n"
     ]
    }
   ],
   "source": [
    "text_js.collocations()"
   ]
  },
  {
   "cell_type": "code",
   "execution_count": 21,
   "id": "f74d8d7e-42ff-46af-934c-cc192e3678dc",
   "metadata": {},
   "outputs": [],
   "source": [
    "jon_sentiment = ' '.join(map(str, jon))"
   ]
  },
  {
   "cell_type": "markdown",
   "id": "c3cee878-4037-4e7b-b566-afc4e2ddb2c2",
   "metadata": {},
   "source": [
    "### Cersei Lannister"
   ]
  },
  {
   "cell_type": "code",
   "execution_count": 22,
   "id": "54f4eed6-6e58-4e98-9d1d-da1cf4879fd2",
   "metadata": {},
   "outputs": [],
   "source": [
    "soup_cl, text_cl, output_cl = CharDescription(root, char_wiki[1])\n",
    "head_cl = GetSectionName(soup_cl)\n",
    "cl_desc = GetText(head_cl, soup_cl)\n",
    "cl_list = [j for i in cl_desc for j in i]"
   ]
  },
  {
   "cell_type": "code",
   "execution_count": 23,
   "id": "735cca28-baf0-4a75-91ec-8e4f5b607c67",
   "metadata": {},
   "outputs": [],
   "source": [
    "CL = ' '.join(cl_list)\n",
    "CL = CL.strip()\n",
    "CL = word_tokenize(CL.lower())"
   ]
  },
  {
   "cell_type": "code",
   "execution_count": 24,
   "id": "14cff12a-392e-4a38-bc03-d66f994b16f6",
   "metadata": {},
   "outputs": [],
   "source": [
    "cersei = clean_data(CL, CharacterNames, FamilyMembers, stop_words)"
   ]
  },
  {
   "cell_type": "code",
   "execution_count": 25,
   "id": "6dadebf1-2c1d-49ed-b02a-bb6879f22008",
   "metadata": {},
   "outputs": [],
   "source": [
    "cersei = [x for x in cersei if len(x.strip()) > 0]"
   ]
  },
  {
   "cell_type": "code",
   "execution_count": 26,
   "id": "d74cc03f-592d-4e55-8959-b9a6b9cbcc91",
   "metadata": {},
   "outputs": [
    {
     "name": "stdout",
     "output_type": "stream",
     "text": [
      "2571\n"
     ]
    }
   ],
   "source": [
    "# Unique vocabulary for Cersei Lannister\n",
    "print(len(set(cersei)))"
   ]
  },
  {
   "cell_type": "code",
   "execution_count": 27,
   "id": "46ecd2ef-c657-45fa-903e-99724ea5a7c1",
   "metadata": {},
   "outputs": [],
   "source": [
    "text_cl = nltk.Text(cersei)"
   ]
  },
  {
   "cell_type": "code",
   "execution_count": 28,
   "id": "18969b98-c229-4ba6-b452-9377d633af05",
   "metadata": {},
   "outputs": [
    {
     "data": {
      "text/plain": [
       "0.4401643554185927"
      ]
     },
     "execution_count": 28,
     "metadata": {},
     "output_type": "execute_result"
    }
   ],
   "source": [
    "# Lexical richness\n",
    "len(set(text_cl)) / len(text_cl)"
   ]
  },
  {
   "cell_type": "code",
   "execution_count": 29,
   "id": "d8e3b7fb-b036-4f27-bad9-6b622c93aaf3",
   "metadata": {},
   "outputs": [
    {
     "name": "stdout",
     "output_type": "stream",
     "text": [
      "faith militant; sept baelor; seven kingdoms; small council; casterly\n",
      "rock; iron throne; incestuous relationship; golden company; trial\n",
      "combat; walk atonement; game thrones; iron bank; queen regent; army\n",
      "dead; starks targaryens; maegor holdfast; strangled sleep; visibly\n",
      "horrified; forced walk; crushed debris\n"
     ]
    }
   ],
   "source": [
    "text_cl.collocations()"
   ]
  },
  {
   "cell_type": "code",
   "execution_count": 29,
   "id": "4ca68954-fdc3-4183-bd9e-2fffbbc50d4d",
   "metadata": {},
   "outputs": [],
   "source": [
    "cersei_sentiment = ' '.join(map(str, cersei))"
   ]
  },
  {
   "cell_type": "markdown",
   "id": "4befd86c-4863-4c43-8805-26f4c2139bde",
   "metadata": {},
   "source": [
    "### Tyrion Lannister"
   ]
  },
  {
   "cell_type": "code",
   "execution_count": 30,
   "id": "868fba1e-4400-49c4-b10c-324d196709c0",
   "metadata": {},
   "outputs": [],
   "source": [
    "soup_tl, text_tl, output_tl = CharDescription(root, char_wiki[2])\n",
    "head_tl = GetSectionName(soup_tl)\n",
    "tl_desc = GetText(head_tl, soup_tl)\n",
    "tl_list = [j for i in tl_desc for j in i]"
   ]
  },
  {
   "cell_type": "code",
   "execution_count": 31,
   "id": "7e30dac1-3cc4-488c-beb4-b38c3d7479b3",
   "metadata": {},
   "outputs": [],
   "source": [
    "TL = ' '.join(tl_list)\n",
    "TL = TL.strip()\n",
    "TL = word_tokenize(TL.lower())"
   ]
  },
  {
   "cell_type": "code",
   "execution_count": 32,
   "id": "1c16a321-5fca-46b4-a0bf-93e629d143ee",
   "metadata": {},
   "outputs": [],
   "source": [
    "tyrion = clean_data(TL, CharacterNames, FamilyMembers, stop_words)"
   ]
  },
  {
   "cell_type": "code",
   "execution_count": 33,
   "id": "d31f667f-9d00-4a62-abf9-8f071e2f2a8b",
   "metadata": {},
   "outputs": [],
   "source": [
    "tyrion = [x for x in tyrion if len(x.strip()) > 0]"
   ]
  },
  {
   "cell_type": "code",
   "execution_count": 34,
   "id": "692d5204-4e54-4aac-92c1-1a7d4224df2a",
   "metadata": {},
   "outputs": [
    {
     "name": "stdout",
     "output_type": "stream",
     "text": [
      "2855\n"
     ]
    }
   ],
   "source": [
    "# Unique vocabulary for Tyrion Lannister\n",
    "print(len(set(tyrion)))"
   ]
  },
  {
   "cell_type": "code",
   "execution_count": 35,
   "id": "61b4f41b-29e8-429b-895b-bfd9b12e5128",
   "metadata": {},
   "outputs": [],
   "source": [
    "text_tl = nltk.Text(tyrion)"
   ]
  },
  {
   "cell_type": "code",
   "execution_count": 36,
   "id": "cdbd0d0d-93fa-473b-9e41-e70831bc62a9",
   "metadata": {},
   "outputs": [
    {
     "data": {
      "text/plain": [
       "0.40262304329431675"
      ]
     },
     "execution_count": 36,
     "metadata": {},
     "output_type": "execute_result"
    }
   ],
   "source": [
    "len(set(text_tl)) / len(text_tl)"
   ]
  },
  {
   "cell_type": "code",
   "execution_count": 37,
   "id": "55a0698c-b5e7-4f52-af7d-19ccb04adf3d",
   "metadata": {},
   "outputs": [
    {
     "name": "stdout",
     "output_type": "stream",
     "text": [
      "casterly rock; small council; sons harpy; seven kingdoms; trial\n",
      "combat; hill tribes; iron throne; battle blackwater; mud gate; slaver\n",
      "bay; fighting pit; tower hand; iron bank; last time; bids farewell;\n",
      "throne room; drink death; sake unborn; sense humor; iron islands\n"
     ]
    }
   ],
   "source": [
    "text_tl.collocations()"
   ]
  },
  {
   "cell_type": "code",
   "execution_count": 38,
   "id": "0190a6d7-e008-439a-af5c-73f0c08d19b6",
   "metadata": {},
   "outputs": [],
   "source": [
    "tyrion_sentiment = ' '.join(map(str, tyrion))"
   ]
  },
  {
   "cell_type": "markdown",
   "id": "28f68ab3-2e28-497a-8641-f4b2b6834126",
   "metadata": {},
   "source": [
    "### Daenerys Targaryen "
   ]
  },
  {
   "cell_type": "code",
   "execution_count": 38,
   "id": "7c206d12-b5e5-417f-8dfc-0d820cdef097",
   "metadata": {},
   "outputs": [],
   "source": [
    "soup_dt, text_dt, output_dt = CharDescription(root, char_wiki[3])\n",
    "head_dt = GetSectionName(soup_dt)\n",
    "dt_desc = GetText(head_dt, soup_dt)\n",
    "dt_list = [j for i in dt_desc for j in i]"
   ]
  },
  {
   "cell_type": "code",
   "execution_count": 39,
   "id": "c6db4164-ee92-4c81-ba36-bb1aae4aad06",
   "metadata": {},
   "outputs": [],
   "source": [
    "DT = ' '.join(dt_list)\n",
    "DT = DT.strip()\n",
    "DT = word_tokenize(DT.lower())"
   ]
  },
  {
   "cell_type": "code",
   "execution_count": 40,
   "id": "3edb749d-6310-434c-b039-fe8292370c01",
   "metadata": {},
   "outputs": [],
   "source": [
    "dae = clean_data(DT, CharacterNames, FamilyMembers, stop_words)"
   ]
  },
  {
   "cell_type": "code",
   "execution_count": 41,
   "id": "a2e7bd59-71b0-42cb-9c66-0fa453139aeb",
   "metadata": {},
   "outputs": [],
   "source": [
    "dae = [x for x in dae if len(x.strip()) > 0]"
   ]
  },
  {
   "cell_type": "code",
   "execution_count": 42,
   "id": "beeb611d-2b71-4834-9ff5-15684eebc9cf",
   "metadata": {},
   "outputs": [
    {
     "name": "stdout",
     "output_type": "stream",
     "text": [
      "3202\n"
     ]
    }
   ],
   "source": [
    "# Unique vocabulary for Tyrion Lannister\n",
    "print(len(set(dae)))"
   ]
  },
  {
   "cell_type": "code",
   "execution_count": 43,
   "id": "f3ac12f6-e1c1-45f4-8cad-912a11dfb24a",
   "metadata": {},
   "outputs": [],
   "source": [
    "text_dt = nltk.Text(dae)"
   ]
  },
  {
   "cell_type": "code",
   "execution_count": 44,
   "id": "197d38bd-0dd4-45ce-98b5-0204de542abe",
   "metadata": {},
   "outputs": [
    {
     "data": {
      "text/plain": [
       "0.1868035703867919"
      ]
     },
     "execution_count": 44,
     "metadata": {},
     "output_type": "execute_result"
    }
   ],
   "source": [
    "len(set(text_dt)) / len(text_dt)"
   ]
  },
  {
   "cell_type": "code",
   "execution_count": 45,
   "id": "9ee66fad-c827-4a45-8bed-fc969ad34e15",
   "metadata": {},
   "outputs": [
    {
     "name": "stdout",
     "output_type": "stream",
     "text": [
      "iron throne; seven kingdoms; second sons; dosh khaleen; slaver bay;\n",
      "army dead; vaes dothrak; bend knee; casterly rock; throne room; dragon\n",
      "eggs; fighting pits; changed mind; game thrones; burned alive; break\n",
      "wheel; wise masters; size small; three dragons; powerful friends\n"
     ]
    }
   ],
   "source": [
    "text_dt.collocations()"
   ]
  },
  {
   "cell_type": "code",
   "execution_count": 47,
   "id": "9f49fc4b-89ec-4f64-9e42-2e4a2f98f1de",
   "metadata": {},
   "outputs": [],
   "source": [
    "dae_sentiment = ' '.join(map(str, dae))"
   ]
  },
  {
   "cell_type": "markdown",
   "id": "60b28eaf-70aa-4c8b-ab2e-1b0fe1c4bcc4",
   "metadata": {},
   "source": [
    "### Arya Stark"
   ]
  },
  {
   "cell_type": "code",
   "execution_count": 46,
   "id": "295ccd37-b5bf-45dd-940e-f0f4a086157f",
   "metadata": {},
   "outputs": [],
   "source": [
    "soup_as, text_as, output_as = CharDescription(root, char_wiki[4])\n",
    "head_as = GetSectionName(soup_as)\n",
    "as_desc = GetText(head_as, soup_as)\n",
    "as_list = [j for i in as_desc for j in i]"
   ]
  },
  {
   "cell_type": "code",
   "execution_count": 47,
   "id": "0ac9436b-144a-46d5-9348-22d0ee9cb827",
   "metadata": {},
   "outputs": [],
   "source": [
    "AS = ' '.join(as_list)\n",
    "AS = AS.strip()\n",
    "AS = word_tokenize(AS.lower())"
   ]
  },
  {
   "cell_type": "code",
   "execution_count": 48,
   "id": "381d6372-2205-4a4d-a0b6-fd3036a4fe6c",
   "metadata": {},
   "outputs": [],
   "source": [
    "arya = clean_data(AS, CharacterNames, FamilyMembers, stop_words)"
   ]
  },
  {
   "cell_type": "code",
   "execution_count": 49,
   "id": "051f5ed0-4a39-45e1-9022-800ae3db9316",
   "metadata": {},
   "outputs": [],
   "source": [
    "arya = [x for x in arya if len(x.strip()) > 0]"
   ]
  },
  {
   "cell_type": "code",
   "execution_count": 50,
   "id": "31b8a61f-784a-4134-a5fa-3fb4e06c902e",
   "metadata": {},
   "outputs": [
    {
     "name": "stdout",
     "output_type": "stream",
     "text": [
      "2328\n"
     ]
    }
   ],
   "source": [
    "# Unique vocabulary for Tyrion Lannister\n",
    "print(len(set(arya)))"
   ]
  },
  {
   "cell_type": "code",
   "execution_count": 52,
   "id": "983c6c7e-a558-4344-8952-777961bd4c40",
   "metadata": {},
   "outputs": [],
   "source": [
    "text_as = nltk.Text(arya)"
   ]
  },
  {
   "cell_type": "code",
   "execution_count": 53,
   "id": "4f330cec-e5a0-4674-b4c7-adc8ccebd281",
   "metadata": {},
   "outputs": [
    {
     "data": {
      "text/plain": [
       "0.4326333395279688"
      ]
     },
     "execution_count": 53,
     "metadata": {},
     "output_type": "execute_result"
    }
   ],
   "source": [
    "len(set(text_as)) / len(text_as)"
   ]
  },
  {
   "cell_type": "code",
   "execution_count": 54,
   "id": "b42d4e7d-cd55-4d0e-83d9-85559a76e2db",
   "metadata": {},
   "outputs": [
    {
     "name": "stdout",
     "output_type": "stream",
     "text": [
      "valyrian steel; hog farmer; game faces; steel dagger; without banners;\n",
      "slits throat; gold cloaks; valar morghulis; manyfaced god; happy see;\n",
      "brotherhood without; runs away; practicing archery; withholds vote;\n",
      "watches satisfaction; light trench; true god; bent knee; dragon\n",
      "skulls; hiding place\n"
     ]
    }
   ],
   "source": [
    "text_as.collocations()"
   ]
  },
  {
   "cell_type": "code",
   "execution_count": 56,
   "id": "af18e285-6a6c-48c3-8e2b-19c2a51a07ff",
   "metadata": {},
   "outputs": [],
   "source": [
    "arya_sentiment = ' '.join(map(str, arya))"
   ]
  },
  {
   "cell_type": "markdown",
   "id": "cc7698a1-3e2d-4bc8-b7bc-7ef05dfe0625",
   "metadata": {},
   "source": [
    "## Comparison Between Characters"
   ]
  },
  {
   "cell_type": "code",
   "execution_count": 55,
   "id": "d06f4809-d131-4cc2-a5dd-f634f2403c11",
   "metadata": {},
   "outputs": [],
   "source": [
    "text = [jon, cersei, tyrion, dae, arya]"
   ]
  },
  {
   "cell_type": "code",
   "execution_count": 56,
   "id": "76c52760-5882-4273-8940-3e0233a0718e",
   "metadata": {},
   "outputs": [],
   "source": [
    "data = pd.DataFrame(columns = characters)"
   ]
  },
  {
   "cell_type": "code",
   "execution_count": 57,
   "id": "89668a2b-404b-46f9-b6f0-06c04528bd8a",
   "metadata": {},
   "outputs": [],
   "source": [
    "import more_itertools as mit\n",
    "\n",
    "data['Jon Snow'] = list(mit.padded(jon, \"\", 17201))\n",
    "data['Cersei Lannister'] = list(mit.padded(cersei, \"\", 17201))\n",
    "data['Tyrion Lannister'] = list(mit.padded(tyrion, \"\", 17201))\n",
    "data['Daenerys Targaryen'] = list(mit.padded(dae, \"\", 17201))\n",
    "data['Arya Stark'] = list(mit.padded(arya, \"\", 17201))"
   ]
  },
  {
   "cell_type": "code",
   "execution_count": 58,
   "id": "32cb93fa-d478-47fd-ba8a-a82d21438eda",
   "metadata": {},
   "outputs": [
    {
     "data": {
      "text/html": [
       "<div>\n",
       "<style scoped>\n",
       "    .dataframe tbody tr th:only-of-type {\n",
       "        vertical-align: middle;\n",
       "    }\n",
       "\n",
       "    .dataframe tbody tr th {\n",
       "        vertical-align: top;\n",
       "    }\n",
       "\n",
       "    .dataframe thead th {\n",
       "        text-align: right;\n",
       "    }\n",
       "</style>\n",
       "<table border=\"1\" class=\"dataframe\">\n",
       "  <thead>\n",
       "    <tr style=\"text-align: right;\">\n",
       "      <th></th>\n",
       "      <th>Jon Snow</th>\n",
       "      <th>Cersei Lannister</th>\n",
       "      <th>Tyrion Lannister</th>\n",
       "      <th>Daenerys Targaryen</th>\n",
       "      <th>Arya Stark</th>\n",
       "    </tr>\n",
       "  </thead>\n",
       "  <tbody>\n",
       "    <tr>\n",
       "      <th>0</th>\n",
       "      <td>artistic</td>\n",
       "      <td>eldest</td>\n",
       "      <td>joanna</td>\n",
       "      <td>youngest</td>\n",
       "      <td>youngest</td>\n",
       "    </tr>\n",
       "    <tr>\n",
       "      <th>1</th>\n",
       "      <td>depiction</td>\n",
       "      <td>joanna</td>\n",
       "      <td>died</td>\n",
       "      <td>mad</td>\n",
       "      <td>third</td>\n",
       "    </tr>\n",
       "    <tr>\n",
       "      <th>2</th>\n",
       "      <td>abducting</td>\n",
       "      <td>head</td>\n",
       "      <td>giving</td>\n",
       "      <td>sisterwife</td>\n",
       "      <td>born</td>\n",
       "    </tr>\n",
       "    <tr>\n",
       "      <th>3</th>\n",
       "      <td>finds</td>\n",
       "      <td>richest</td>\n",
       "      <td>birth</td>\n",
       "      <td>died</td>\n",
       "      <td>raised</td>\n",
       "    </tr>\n",
       "    <tr>\n",
       "      <th>4</th>\n",
       "      <td>dying</td>\n",
       "      <td>seven</td>\n",
       "      <td>tragedy</td>\n",
       "      <td>sack</td>\n",
       "      <td>older</td>\n",
       "    </tr>\n",
       "    <tr>\n",
       "      <th>...</th>\n",
       "      <td>...</td>\n",
       "      <td>...</td>\n",
       "      <td>...</td>\n",
       "      <td>...</td>\n",
       "      <td>...</td>\n",
       "    </tr>\n",
       "    <tr>\n",
       "      <th>17196</th>\n",
       "      <td></td>\n",
       "      <td></td>\n",
       "      <td></td>\n",
       "      <td></td>\n",
       "      <td></td>\n",
       "    </tr>\n",
       "    <tr>\n",
       "      <th>17197</th>\n",
       "      <td></td>\n",
       "      <td></td>\n",
       "      <td></td>\n",
       "      <td></td>\n",
       "      <td></td>\n",
       "    </tr>\n",
       "    <tr>\n",
       "      <th>17198</th>\n",
       "      <td></td>\n",
       "      <td></td>\n",
       "      <td></td>\n",
       "      <td></td>\n",
       "      <td></td>\n",
       "    </tr>\n",
       "    <tr>\n",
       "      <th>17199</th>\n",
       "      <td></td>\n",
       "      <td></td>\n",
       "      <td></td>\n",
       "      <td></td>\n",
       "      <td></td>\n",
       "    </tr>\n",
       "    <tr>\n",
       "      <th>17200</th>\n",
       "      <td></td>\n",
       "      <td></td>\n",
       "      <td></td>\n",
       "      <td></td>\n",
       "      <td></td>\n",
       "    </tr>\n",
       "  </tbody>\n",
       "</table>\n",
       "<p>17201 rows × 5 columns</p>\n",
       "</div>"
      ],
      "text/plain": [
       "        Jon Snow Cersei Lannister Tyrion Lannister Daenerys Targaryen  \\\n",
       "0       artistic           eldest           joanna           youngest   \n",
       "1      depiction           joanna             died                mad   \n",
       "2      abducting             head           giving         sisterwife   \n",
       "3          finds          richest            birth               died   \n",
       "4          dying            seven          tragedy               sack   \n",
       "...          ...              ...              ...                ...   \n",
       "17196                                                                   \n",
       "17197                                                                   \n",
       "17198                                                                   \n",
       "17199                                                                   \n",
       "17200                                                                   \n",
       "\n",
       "      Arya Stark  \n",
       "0       youngest  \n",
       "1          third  \n",
       "2           born  \n",
       "3         raised  \n",
       "4          older  \n",
       "...          ...  \n",
       "17196             \n",
       "17197             \n",
       "17198             \n",
       "17199             \n",
       "17200             \n",
       "\n",
       "[17201 rows x 5 columns]"
      ]
     },
     "execution_count": 58,
     "metadata": {},
     "output_type": "execute_result"
    }
   ],
   "source": [
    "data"
   ]
  },
  {
   "cell_type": "code",
   "execution_count": 59,
   "id": "37c81b61-eef2-4b45-98cf-dc2cfe852225",
   "metadata": {},
   "outputs": [],
   "source": [
    "train, test = train_test_split(data,test_size = 0.1)"
   ]
  },
  {
   "cell_type": "code",
   "execution_count": 60,
   "id": "69c3f63f-5812-4758-9538-9fb0bc8d46c8",
   "metadata": {},
   "outputs": [],
   "source": [
    "train_js = train['Jon Snow']\n",
    "train_cl = train['Cersei Lannister']\n",
    "train_tl = train['Tyrion Lannister']\n",
    "train_dt = train['Daenerys Targaryen']\n",
    "train_as = train['Arya Stark']"
   ]
  },
  {
   "cell_type": "code",
   "execution_count": 61,
   "id": "18c12c7f-f0dc-49fd-84c6-577c383999ea",
   "metadata": {},
   "outputs": [],
   "source": [
    "training = [train_js, train_cl, train_tl, train_dt, train_as]"
   ]
  },
  {
   "cell_type": "code",
   "execution_count": 62,
   "id": "2ed241bd-d04e-4113-aa60-a52f71dba9d3",
   "metadata": {},
   "outputs": [],
   "source": [
    "def wordcloud_draw(data, color = 'black'):\n",
    "    words = ' '.join(data)\n",
    "    cleaned_word = \" \".join([word for word in words.split()\n",
    "                            if word != 'edd'\n",
    "                            and word != 'nt'\n",
    "                            and word != 'one' \n",
    "                            ])\n",
    "    wordcloud = WordCloud(stopwords=STOPWORDS,\n",
    "                      background_color=color,\n",
    "                      width=2500,\n",
    "                      height=2000\n",
    "                     ).generate(cleaned_word)\n",
    "    wordcloud.to_file(\"wordcloud\")\n",
    "    plt.figure(1,figsize=(5, 5))\n",
    "    plt.imshow(wordcloud)\n",
    "    plt.axis('off')\n",
    "    plt.show()"
   ]
  },
  {
   "cell_type": "code",
   "execution_count": 76,
   "id": "a9484bab-7461-4132-9071-75fad58a9e37",
   "metadata": {},
   "outputs": [],
   "source": [
    "#JonSnow = wordcloud_draw(train_js, 'white')\n",
    "#CerseiLannister = wordcloud_draw(train_cl, 'white')\n",
    "#TyrionLannister = wordcloud_draw(train_tl, 'white')\n",
    "#DAE = wordcloud_draw(train_dt, 'white')\n",
    "#AryaStark = wordcloud_draw(train_as, 'white')"
   ]
  },
  {
   "cell_type": "code",
   "execution_count": 76,
   "id": "f1f85c5e-6d87-4554-ba73-bce7b4b705ea",
   "metadata": {},
   "outputs": [],
   "source": [
    "sentiment_label = pd.read_csv('subjectivityclues.csv')"
   ]
  },
  {
   "cell_type": "code",
   "execution_count": 77,
   "id": "82d59cd7-66bd-4477-b203-52d2bc8c7d44",
   "metadata": {},
   "outputs": [
    {
     "data": {
      "text/html": [
       "<div>\n",
       "<style scoped>\n",
       "    .dataframe tbody tr th:only-of-type {\n",
       "        vertical-align: middle;\n",
       "    }\n",
       "\n",
       "    .dataframe tbody tr th {\n",
       "        vertical-align: top;\n",
       "    }\n",
       "\n",
       "    .dataframe thead th {\n",
       "        text-align: right;\n",
       "    }\n",
       "</style>\n",
       "<table border=\"1\" class=\"dataframe\">\n",
       "  <thead>\n",
       "    <tr style=\"text-align: right;\">\n",
       "      <th></th>\n",
       "      <th>Type</th>\n",
       "      <th>Word</th>\n",
       "      <th>Prior Polarity</th>\n",
       "    </tr>\n",
       "  </thead>\n",
       "  <tbody>\n",
       "    <tr>\n",
       "      <th>0</th>\n",
       "      <td>weaksubj</td>\n",
       "      <td>abandoned</td>\n",
       "      <td>negative</td>\n",
       "    </tr>\n",
       "    <tr>\n",
       "      <th>1</th>\n",
       "      <td>weaksubj</td>\n",
       "      <td>abandonment</td>\n",
       "      <td>negative</td>\n",
       "    </tr>\n",
       "    <tr>\n",
       "      <th>2</th>\n",
       "      <td>weaksubj</td>\n",
       "      <td>abandon</td>\n",
       "      <td>negative</td>\n",
       "    </tr>\n",
       "    <tr>\n",
       "      <th>3</th>\n",
       "      <td>strongsubj</td>\n",
       "      <td>abase</td>\n",
       "      <td>negative</td>\n",
       "    </tr>\n",
       "    <tr>\n",
       "      <th>4</th>\n",
       "      <td>strongsubj</td>\n",
       "      <td>abasement</td>\n",
       "      <td>negative</td>\n",
       "    </tr>\n",
       "    <tr>\n",
       "      <th>...</th>\n",
       "      <td>...</td>\n",
       "      <td>...</td>\n",
       "      <td>...</td>\n",
       "    </tr>\n",
       "    <tr>\n",
       "      <th>8217</th>\n",
       "      <td>strongsubj</td>\n",
       "      <td>zealot</td>\n",
       "      <td>negative</td>\n",
       "    </tr>\n",
       "    <tr>\n",
       "      <th>8218</th>\n",
       "      <td>strongsubj</td>\n",
       "      <td>zealous</td>\n",
       "      <td>negative</td>\n",
       "    </tr>\n",
       "    <tr>\n",
       "      <th>8219</th>\n",
       "      <td>strongsubj</td>\n",
       "      <td>zealously</td>\n",
       "      <td>negative</td>\n",
       "    </tr>\n",
       "    <tr>\n",
       "      <th>8220</th>\n",
       "      <td>strongsubj</td>\n",
       "      <td>zenith</td>\n",
       "      <td>positive</td>\n",
       "    </tr>\n",
       "    <tr>\n",
       "      <th>8221</th>\n",
       "      <td>strongsubj</td>\n",
       "      <td>zest</td>\n",
       "      <td>positive</td>\n",
       "    </tr>\n",
       "  </tbody>\n",
       "</table>\n",
       "<p>8222 rows × 3 columns</p>\n",
       "</div>"
      ],
      "text/plain": [
       "            Type         Word Prior Polarity\n",
       "0       weaksubj    abandoned       negative\n",
       "1       weaksubj  abandonment       negative\n",
       "2       weaksubj      abandon       negative\n",
       "3     strongsubj        abase       negative\n",
       "4     strongsubj    abasement       negative\n",
       "...          ...          ...            ...\n",
       "8217  strongsubj       zealot       negative\n",
       "8218  strongsubj      zealous       negative\n",
       "8219  strongsubj    zealously       negative\n",
       "8220  strongsubj       zenith       positive\n",
       "8221  strongsubj         zest       positive\n",
       "\n",
       "[8222 rows x 3 columns]"
      ]
     },
     "execution_count": 77,
     "metadata": {},
     "output_type": "execute_result"
    }
   ],
   "source": [
    "sentiment_label"
   ]
  },
  {
   "cell_type": "code",
   "execution_count": null,
   "id": "cd68b716-4742-48dc-9c8b-de2f3188d907",
   "metadata": {},
   "outputs": [],
   "source": []
  }
 ],
 "metadata": {
  "kernelspec": {
   "display_name": "Python 3",
   "language": "python",
   "name": "python3"
  },
  "language_info": {
   "codemirror_mode": {
    "name": "ipython",
    "version": 3
   },
   "file_extension": ".py",
   "mimetype": "text/x-python",
   "name": "python",
   "nbconvert_exporter": "python",
   "pygments_lexer": "ipython3",
   "version": "3.9.2"
  }
 },
 "nbformat": 4,
 "nbformat_minor": 5
}
